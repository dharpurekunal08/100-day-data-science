{
 "cells": [
  {
   "cell_type": "code",
   "execution_count": null,
   "id": "31bbc514-59e6-4f39-8235-488e415cf719",
   "metadata": {},
   "outputs": [],
   "source": [
    "!python --version"
   ]
  },
  {
   "cell_type": "markdown",
   "id": "9e18ced6-b8a7-4c37-b7be-72fc9eba0a35",
   "metadata": {},
   "source": [
    "<h1 style=\"color:springgreen\">Python</h1>\n",
    "\n",
    "- Python is a general purpose and powerful programming language.\n",
    "- considered as one of the most verstile programming language \n",
    "- can be developed almost any kind of application including:\n",
    "    - desktop applications\n",
    "    - web\n",
    "    - IoT\n",
    "    - AI, ML, and Data Science\n",
    "    - any many more...\n",
    " \n",
    "- Developed by Guido van Rossum, a Dutch scientist\n",
    "- At Center For Mathematics and Research, Netherland\n",
    "- Inspired by ABC programming language\n",
    "\n",
    "### features of Python\n",
    "- Simple\n",
    "- Dynamically Typed\n",
    "- Robust\n",
    "- Supports multiple programming paradigms\n",
    "- Compiled as well as Interpreted\n",
    "- Cross platform\n",
    "- Extensible\n",
    "- Huge Library"
   ]
  },
  {
   "cell_type": "code",
   "execution_count": null,
   "id": "9e467d6a-e4f4-4c05-99a2-497dd2a7c327",
   "metadata": {},
   "outputs": [],
   "source": [
    "# Lets get start!!\n",
    "\n",
    "# printing \"Hare krishna!\"\n",
    "\n",
    "print(\"Hare Krishna!\") "
   ]
  },
  {
   "cell_type": "code",
   "execution_count": null,
   "id": "697eae16-9c2d-470c-8589-9bd8984a0926",
   "metadata": {},
   "outputs": [],
   "source": [
    "# printing in python 2x be like:\n",
    "\n",
    "# print \"Hare Krishna!\""
   ]
  },
  {
   "cell_type": "code",
   "execution_count": null,
   "id": "5bf3a8c2-0f52-4bc7-b118-f33cb1b38c67",
   "metadata": {},
   "outputs": [],
   "source": [
    "# print() func in pythn is used to display output to the console. \n",
    "# It can take multiple arg, including string , variables or the results of expression\n",
    "# and print them on the screen.\n",
    "\n",
    "# syntax:\n",
    "# print(*object, sep=' ', end='\\n', file=sys.stdout, flush=false)\n",
    "\n",
    "# *objects: Any number of objects to be printed.\n",
    "# sep: String inserted between each object (default is a space).\n",
    "# end: String appended after the last object (default is a newline \\n).\n",
    "# file: Where to print (default is sys.stdout, which is the console).\n",
    "# flush: Whether to forcibly flush the stream (default is False).\n"
   ]
  },
  {
   "cell_type": "code",
   "execution_count": null,
   "id": "fd154ae8-446f-478c-a5bd-3b597f9806d5",
   "metadata": {},
   "outputs": [],
   "source": [
    "# Basic usage\n",
    "print(\"Hello, World!\")\n",
    "\n",
    "# Printing multiple values\n",
    "name = \"Kunal\"\n",
    "age = 22\n",
    "print(\"Name:\", name, \"Age:\", age)\n",
    "\n",
    "# Using custom separator\n",
    "print(\"apple\", \"banana\", \"cherry\", sep=\", \")\n",
    "\n",
    "# Using custom end\n",
    "print(\"Hello\", end=\"!\")\n",
    "print(\"World\")\n"
   ]
  },
  {
   "cell_type": "code",
   "execution_count": null,
   "id": "c9ebeebf-62f0-40a2-a225-b8739d6c502b",
   "metadata": {},
   "outputs": [],
   "source": [
    "# basics operation\\\n",
    "\n",
    "10 + 20"
   ]
  },
  {
   "cell_type": "code",
   "execution_count": null,
   "id": "3bba9b88-763d-4e22-bcf8-6a9ffc2cb0e3",
   "metadata": {},
   "outputs": [],
   "source": [
    "10 - 22"
   ]
  },
  {
   "cell_type": "code",
   "execution_count": null,
   "id": "b0e873e7-3274-4f91-8f39-92f0e2a778f5",
   "metadata": {},
   "outputs": [],
   "source": [
    "10 * 20"
   ]
  },
  {
   "cell_type": "code",
   "execution_count": null,
   "id": "ac8c7892-0504-4325-bc7a-3e27e5485d69",
   "metadata": {},
   "outputs": [],
   "source": [
    "10 / 3"
   ]
  },
  {
   "cell_type": "code",
   "execution_count": null,
   "id": "86555b77-64b2-4c68-a680-7ba76f9ae233",
   "metadata": {},
   "outputs": [],
   "source": [
    "10 // 3   # floor division"
   ]
  },
  {
   "cell_type": "markdown",
   "id": "881f8826-59c9-431a-b8f7-57fdbaa100e2",
   "metadata": {
    "jp-MarkdownHeadingCollapsed": true
   },
   "source": [
    "### Python variables\n",
    "\n",
    "A variable in Python is used to store data values. You can assign values to variables using the = operator.\n",
    "\n",
    "* **Rules**\n",
    "    - Variable names must start with a letter or an underscore.\n",
    "    - They can contain (A-Z, a-z), (0-9), and (_).\n",
    "    - They are case-sensitive (age and Age are different)."
   ]
  },
  {
   "cell_type": "code",
   "execution_count": null,
   "id": "f109acae-41c5-4a0b-b5de-9067588483f1",
   "metadata": {},
   "outputs": [],
   "source": [
    "x = 5         # Integer\n",
    "name = \"Kunal\"  # String\n",
    "pi = 3.14     # Float"
   ]
  },
  {
   "cell_type": "code",
   "execution_count": null,
   "id": "2086d29a-8f15-4207-aed5-a4c9760bcc7a",
   "metadata": {},
   "outputs": [],
   "source": [
    "type(x)   # is used to determine the data type of an object."
   ]
  },
  {
   "cell_type": "code",
   "execution_count": null,
   "id": "09d5b578-1734-4af7-8d4b-c3bde450c00e",
   "metadata": {},
   "outputs": [],
   "source": [
    "type(name)"
   ]
  },
  {
   "cell_type": "code",
   "execution_count": null,
   "id": "131240f5-b4e4-4399-8a46-86c8556bdfaf",
   "metadata": {},
   "outputs": [],
   "source": [
    "type(pi)"
   ]
  },
  {
   "cell_type": "code",
   "execution_count": null,
   "id": "9b4add47-d2a3-4ae3-a16e-934e64862196",
   "metadata": {},
   "outputs": [],
   "source": [
    "print(id(name)) # address of memory\n",
    "print(id(pi))"
   ]
  },
  {
   "cell_type": "markdown",
   "id": "866e782f-02e6-493b-b763-d12932991496",
   "metadata": {
    "jp-MarkdownHeadingCollapsed": true
   },
   "source": [
    "### keywords - \n",
    "are reserved words that have special meanings and cannot be used as variable names or identifiers."
   ]
  },
  {
   "cell_type": "code",
   "execution_count": null,
   "id": "318d5024-68a6-4f3c-bc62-b44f335b2f90",
   "metadata": {},
   "outputs": [],
   "source": [
    "# To see all Python keywords, you can use the following:\n",
    "\n",
    "import keyword\n",
    "print(keyword.kwlist)"
   ]
  },
  {
   "cell_type": "markdown",
   "id": "d8eca182-abc0-4434-9de9-0b114f0fc956",
   "metadata": {
    "jp-MarkdownHeadingCollapsed": true
   },
   "source": [
    "### Comments\n",
    "Python has commenting capability for the purpose of in-code documentation.\r\n",
    "\r\n",
    "Comments start with a #, and Python will render the rest of the line as a comment:\n"
   ]
  },
  {
   "cell_type": "code",
   "execution_count": null,
   "id": "e68267e1-d609-43ba-8732-071ba17987fd",
   "metadata": {},
   "outputs": [],
   "source": [
    "#This is a comment.\n",
    "print(\"Hola!\")  # also it is called single line"
   ]
  },
  {
   "cell_type": "code",
   "execution_count": null,
   "id": "a0228487-a6e1-411d-a8a8-85219a5c4769",
   "metadata": {},
   "outputs": [],
   "source": [
    "# python does not supports multiline commands\n",
    "# but we can use string literals that are not assigned to a variable as multiline comment\n",
    "\n",
    "\"\"\"\n",
    "This is a comment\n",
    "written in\n",
    "more than just one line\n",
    "\"\"\"\n",
    "print(\"Hola!\")\n"
   ]
  },
  {
   "cell_type": "markdown",
   "id": "80f1b346-7e11-4c12-9638-1c6aafb4bc66",
   "metadata": {
    "jp-MarkdownHeadingCollapsed": true
   },
   "source": [
    "### Data Types -- types of data\n",
    "\n",
    "- Text Type:\tstr\n",
    "- Numeric Types:\tint, float, complex\n",
    "- Sequence Types:\tlist, tuple, range\n",
    "- Mapping Type:\tdict\n",
    "- Set Types:\tset, frozenset\n",
    "- Boolean Type:\tbool\n",
    "- Binary Types:\tbytes, bytearray, memoryview\n",
    "- None Type:\tNoneType"
   ]
  },
  {
   "cell_type": "markdown",
   "id": "a48a663e-6306-41ad-8f60-2ee02aa9e752",
   "metadata": {},
   "source": [
    "#### Numbers - int, float, complex"
   ]
  },
  {
   "cell_type": "code",
   "execution_count": null,
   "id": "8f15c7a6-7604-400c-b554-edcf3cb3fe52",
   "metadata": {},
   "outputs": [],
   "source": [
    "x = 10    # int\n",
    "y = 2.8  # float\n",
    "z = 3+4j   # complex --> note in maths i is used for imaginary part but in python j\n",
    "\n",
    "print(type(x))\n",
    "print(type(y))\n",
    "print(type(z))"
   ]
  },
  {
   "cell_type": "markdown",
   "id": "799c13a3-c518-42d6-a5d8-95064b704064",
   "metadata": {
    "jp-MarkdownHeadingCollapsed": true
   },
   "source": [
    "#### Python Type Casting\n",
    "Casting in Python refers to converting one data type to another. Python provides several functions for type casting.\n",
    "\n",
    "Common casting functions:\n",
    "* `int()`: Converts to an integer\n",
    "* `float()`: Converts to a float\n",
    "* `str()`: Converts to a string\n",
    "* `list()`: Converts to a list\n",
    "* `tuple()`: Converts to a tuple\n"
   ]
  },
  {
   "cell_type": "code",
   "execution_count": null,
   "id": "30308569-3495-4632-933a-f2c171dfb743",
   "metadata": {},
   "outputs": [],
   "source": [
    "x = \"10\"        # String\n",
    "y = int(x)      # Casts x to an integer\n",
    "print(y)        # Output: 10 (as an integer)\n",
    "\n",
    "z = float(x)    # Casts x to a float\n",
    "print(z)        # Output: 10.0\n"
   ]
  },
  {
   "cell_type": "markdown",
   "id": "449d9b60-6b40-4390-b0cf-7769d383f870",
   "metadata": {
    "jp-MarkdownHeadingCollapsed": true
   },
   "source": [
    "#### String -\n",
    "A string in Python is a sequence of characters enclosed in quotes \n",
    "(single, double, or triple quotes for multi-line strings)."
   ]
  },
  {
   "cell_type": "code",
   "execution_count": null,
   "id": "9b585cf8-e3e4-49ec-9257-874a2bb98377",
   "metadata": {},
   "outputs": [],
   "source": [
    "name = \"Kunal\"\n",
    "greeting = 'Hello'\n",
    "paragraph = \"\"\"This is a multi-line string.\"\"\"\n",
    "\n",
    "print(name)\n",
    "print(greeting)\n",
    "print(paragraph)"
   ]
  },
  {
   "cell_type": "code",
   "execution_count": null,
   "id": "3e8f6776-659b-4d90-bac5-7db1b0d32e7f",
   "metadata": {},
   "outputs": [],
   "source": [
    "# common str operations:)\n",
    "\n",
    "# Concatenation: Combine strings using +\n",
    "\n",
    "full_name = \"Namste!\" + \" Kunal\"  # Output: \"Namste! Kunal\"\n",
    "full_name"
   ]
  },
  {
   "cell_type": "code",
   "execution_count": null,
   "id": "8e9a6bbe-a8eb-4012-b108-bcefda31715d",
   "metadata": {},
   "outputs": [],
   "source": [
    "# Repetition: Repeat strings using *\n",
    "\n",
    "repeat = \"Hi! \" * 3  # Output: \"Hi! Hi! Hi! \"\n",
    "repeat"
   ]
  },
  {
   "cell_type": "code",
   "execution_count": null,
   "id": "7b385622-49f7-4deb-8fd4-3f4464a06bb1",
   "metadata": {},
   "outputs": [],
   "source": [
    "# Slicing: Access parts of the string\n",
    "\n",
    "first_letter = name[0]  # Output: 'K'\n",
    "first_letter"
   ]
  },
  {
   "cell_type": "code",
   "execution_count": null,
   "id": "63a0fd94-8572-431e-bc93-cdbb61888726",
   "metadata": {},
   "outputs": [],
   "source": [
    "# Length: Use len() to get string length\n",
    "\n",
    "length = len(name)  # Output: 5\n",
    "length"
   ]
  },
  {
   "cell_type": "code",
   "execution_count": null,
   "id": "f27deeea-af6b-4bfc-9cf3-2210ec651bf2",
   "metadata": {},
   "outputs": [],
   "source": [
    "# NOTE: Strings are immutable, meaning you can't change them directly after they're created."
   ]
  },
  {
   "cell_type": "markdown",
   "id": "35fc06a2-2a2b-44d3-a718-316bd3ce5e22",
   "metadata": {
    "jp-MarkdownHeadingCollapsed": true
   },
   "source": [
    "#### String Formatting in Python\n",
    "\n",
    "Python provides several ways to format strings. Below are the most common methods:"
   ]
  },
  {
   "cell_type": "code",
   "execution_count": null,
   "id": "556538ca-c54d-4277-a48c-11fb824e9e29",
   "metadata": {},
   "outputs": [],
   "source": [
    "# 1. f-strings (Python 3.6+)\n",
    "# Allows you to embed expressions inside string literals using curly braces {}.\n",
    "\n",
    "\n",
    "name = \"Kunal\"\n",
    "age = 20\n",
    "greeting = f\"My name is {name} and I am {age} years old.\"\n",
    "print(greeting)  # Output: \"My name is Kunal and I am 20 years old.\""
   ]
  },
  {
   "cell_type": "code",
   "execution_count": null,
   "id": "cbf7bcc0-fd51-4212-bb9f-17e6fa5cbb93",
   "metadata": {},
   "outputs": [],
   "source": [
    "# 2. format() method\n",
    "# Uses curly braces {} as placeholders and the format() function to inject variables.\n",
    "\n",
    "\n",
    "name = \"Kunal\"\n",
    "age = 20\n",
    "greeting = \"My name is {} and I am {} years old.\".format(name, age)\n",
    "print(greeting)  # Output: \"My name is Kunal and I am 20 years old.\"\n"
   ]
  },
  {
   "cell_type": "code",
   "execution_count": null,
   "id": "b4aff19f-d4be-4ae8-bb41-9753d36e62f4",
   "metadata": {},
   "outputs": [],
   "source": [
    "# We can also use positional and keyword arguments:\n",
    "\n",
    "# Positional arguments\n",
    "greeting = \"My name is {0} and I am {1} years old.\".format(name, age)\n",
    "print(greeting)\n",
    "\n",
    "# Keyword arguments\n",
    "greeting = \"My name is {name} and I am {age} years old.\".format(age=20, name=\"kunal\")\n",
    "print(greeting)"
   ]
  },
  {
   "cell_type": "code",
   "execution_count": null,
   "id": "dbb1d808-0298-4906-8c61-7992b8beb0b1",
   "metadata": {},
   "outputs": [],
   "source": [
    "# 3. Percentage % Formatting (Old method)\n",
    "# Uses % to embed values in strings.\n",
    "\n",
    "\n",
    "name = \"Kunal\"\n",
    "age = 20\n",
    "greeting = \"My name is %s and I am %d years old.\" % (name, age)\n",
    "print(greeting)  # Output: \"My name is Kunal and I am 20 years old.\"\n"
   ]
  },
  {
   "cell_type": "code",
   "execution_count": null,
   "id": "93df8a88-9e26-4507-8c47-13b78ada73c6",
   "metadata": {},
   "outputs": [],
   "source": [
    "# 4. Template Strings (From string module)\n",
    "# Allows for simpler string substitution but requires importing Template from the string module.\n",
    "\n",
    "from string import Template\n",
    "\n",
    "# Example of template strings\n",
    "template = Template(\"My name is $name and I am $age years old.\")\n",
    "greeting = template.substitute(name=\"Kunal\", age=20)\n",
    "print(greeting)  # Output: \"My name is Kunal and I am 20 years old.\"\n"
   ]
  },
  {
   "cell_type": "code",
   "execution_count": null,
   "id": "f2a6493d-808b-4db0-84f9-f122c4077608",
   "metadata": {},
   "outputs": [],
   "source": [
    "# 5. Padding and Alignment\n",
    "# You can also format strings for padding and alignment using format() or f-strings.\n",
    "\n",
    "# Padding and alignment\n",
    "x = 42\n",
    "print(f\"{x:5}\")      # Output: \"   42\" (right-aligned)\n",
    "print(f\"{x:<5}\")     # Output: \"42   \" (left-aligned)\n",
    "print(f\"{x:^5}\")     # Output: \" 42  \" (center-aligned)\n"
   ]
  },
  {
   "cell_type": "code",
   "execution_count": null,
   "id": "0b612cee-9d3a-4d69-bbf5-977acc4a23dd",
   "metadata": {},
   "outputs": [],
   "source": [
    "# Escape sequences are special character combinations used to represent characters that are difficult to type directly or have specific meanings in programming.\n",
    "\n",
    "# Here are some common escape sequences in Python:\n",
    "\n",
    "# \\n: Newline\n",
    "# \\t: Tab\n",
    "# \\r: Carriage return\n",
    "# \\b: Backspace\n",
    "# \\f: Form feed\n",
    "# \\: Backslash\n",
    "# ': Single quote\n",
    "# \": Double quote\n",
    "\n",
    "\n",
    "print(\"Hello,\\nworld!\")\n",
    "print(\"This is a\\ttabbed line.\")"
   ]
  },
  {
   "cell_type": "markdown",
   "id": "a9b34764-c731-4c82-aad3-bb621e64e4d9",
   "metadata": {
    "jp-MarkdownHeadingCollapsed": true
   },
   "source": [
    "#### boolean - True, False"
   ]
  },
  {
   "cell_type": "code",
   "execution_count": null,
   "id": "bd54e70b-a646-47ef-a0f3-f853edc29f4d",
   "metadata": {},
   "outputs": [],
   "source": [
    "print(10 > 9)\n",
    "print(10 == 9)\n",
    "print(10 < 9)"
   ]
  },
  {
   "cell_type": "code",
   "execution_count": null,
   "id": "f7a325b7-d1a6-4401-9345-306a24f3f969",
   "metadata": {},
   "outputs": [],
   "source": [
    "print(bool(\"Hello\"))\n",
    "print(bool(15))"
   ]
  },
  {
   "cell_type": "code",
   "execution_count": null,
   "id": "4dff8c89-9d7a-41f1-a75e-a74e114b7fd4",
   "metadata": {},
   "outputs": [],
   "source": [
    "# Objects with a __len__ method that returns 0 or False\n",
    "# are considered empty and evaluate to False.\n",
    "\n",
    "class myclass():\n",
    "  def __len__(self):\n",
    "    return 0\n",
    "\n",
    "myobj = myclass()\n",
    "print(bool(myobj))"
   ]
  },
  {
   "cell_type": "markdown",
   "id": "6188a6f5-ed51-4834-a108-c13e5d6eed9b",
   "metadata": {
    "jp-MarkdownHeadingCollapsed": true
   },
   "source": [
    "### Operators in Python\r\n",
    "\r\n",
    "Python divides the operators into the following groups:\r\n",
    "\r\n",
    "* **Arithmetic operators**\r\n",
    "* **Assignment operators**\r\n",
    "* **Comparison operators**\r\n",
    "* **Logical operators**\r\n",
    "* **Identity operators**\r\n",
    "* **Membership operators**\r\n",
    "* **Bitwise operators**\r\n",
    "rators**\r\n",
    "erators\r\n"
   ]
  },
  {
   "cell_type": "code",
   "execution_count": null,
   "id": "779b8e44-ae71-4640-b5aa-e70e70c2150d",
   "metadata": {},
   "outputs": [],
   "source": [
    "# Arithmetic Operators:\n",
    "\n",
    "a = 10\n",
    "b = 5\n",
    "\n",
    "# Addition\n",
    "result = a + b  # 15\n",
    "print(result)\n",
    "\n",
    "# Subtraction\n",
    "result = a - b  # 5\n",
    "print(result)\n",
    "\n",
    "# Multiplication\n",
    "result = a * b  # 50\n",
    "print(result)\n",
    "\n",
    "# Division\n",
    "result = a / b  # 2.0 (float division)\n",
    "print(result)\n",
    "\n",
    "# Floor division (rounds down to the nearest integer)\n",
    "result = a // b  # 2\n",
    "print(result)\n",
    "\n",
    "# Modulus (remainder after division)\n",
    "result = a % b  # 0\n",
    "print(result)\n",
    "\n",
    "# Exponentiation\n",
    "result = a ** b  # 100000\n",
    "print(result)\n"
   ]
  },
  {
   "cell_type": "code",
   "execution_count": null,
   "id": "60a39925-d978-409f-a9bf-88d83cd2d1c3",
   "metadata": {},
   "outputs": [],
   "source": [
    "# Assignment Operators:)\n",
    "\n",
    "x = 10\n",
    "y = 20\n",
    "\n",
    "x += y  # x = x + y (equivalent to x = 30)\n",
    "x -= y  # x = x - y (equivalent to x = 10)\n",
    "x *= y  # x = x * y (equivalent to x = 200)\n",
    "x /= y  # x = x / y (equivalent to x = 5.0)\n",
    "x //= y  # x = x // y (equivalent to x = 5)\n",
    "x %= y  # x = x % y (equivalent to x = 0)\n",
    "x **= y  # x = x ** y (equivalent to x = 100000)"
   ]
  },
  {
   "cell_type": "code",
   "execution_count": null,
   "id": "da28f181-965c-4b94-8308-17af11764fed",
   "metadata": {},
   "outputs": [],
   "source": [
    "# Comparison Operators:)\n",
    "# Used to compare values.\n",
    "\n",
    "x = 10\n",
    "y = 20\n",
    "\n",
    "# Equal to\n",
    "result = x == y  # False\n",
    "print(result)\n",
    "\n",
    "# Not equal to\n",
    "result = x != y  # True\n",
    "print(result)\n",
    "\n",
    "# Greater than\n",
    "result = x > y  # False\n",
    "print(result)\n",
    "\n",
    "# Less than\n",
    "result = x < y  # True\n",
    "print(result)\n",
    "\n",
    "# Greater than or equal to\n",
    "result = x >= y  # False\n",
    "print(result)\n",
    "\n",
    "# Less than or equal to\n",
    "result = x <= y  # True\n",
    "print(result)\n"
   ]
  },
  {
   "cell_type": "code",
   "execution_count": null,
   "id": "70720059-4e0d-4c48-a9bc-1f626f5efd67",
   "metadata": {},
   "outputs": [],
   "source": [
    "# Logical Operators:)\n",
    "# Used to combine Boolean expressions.\n",
    "\n",
    "a = True\n",
    "b = False\n",
    "\n",
    "# AND (both conditions must be True)\n",
    "result = a and b  # False\n",
    "print(result)\n",
    "\n",
    "# OR (at least one condition must be True)\n",
    "result = a or b  # True\n",
    "print(result)\n",
    "\n",
    "# NOT (reverses the value)\n",
    "result = not a  # False\n",
    "print(result)\n"
   ]
  },
  {
   "cell_type": "code",
   "execution_count": null,
   "id": "a08a8790-878e-4a25-b559-0a2de54ea2d1",
   "metadata": {},
   "outputs": [],
   "source": [
    "# Identity Operators:\n",
    "# Used to check if two objects are the same.\n",
    "\n",
    "x = 10\n",
    "y = 10\n",
    "z = 20\n",
    "\n",
    "# Is (checks if objects are the same)\n",
    "result = x is y  # True\n",
    "print(result)\n",
    "\n",
    "\n",
    "result = x is z  # False\n",
    "print(result)\n",
    "\n",
    "# Is not (checks if objects are not the same)\n",
    "result = x is not z  # True\n",
    "print(result)\n"
   ]
  },
  {
   "cell_type": "code",
   "execution_count": null,
   "id": "89018dbe-7825-4bf6-8fff-ac5cccf15597",
   "metadata": {},
   "outputs": [],
   "source": [
    "# Membership Operators:\n",
    "# Used to check if a value is in a sequence.\n",
    "\n",
    "my_list = [1, 2, 3]\n",
    "my_string = \"hello\"\n",
    "\n",
    "# In\n",
    "result = 2 in my_list  # True\n",
    "print(result)\n",
    "\n",
    "result = \"h\" in my_string  # True\n",
    "print(result)\n",
    "\n",
    "# Not in\n",
    "result = 4 in my_list  # False\n",
    "print(result)\n",
    "\n",
    "result = \"z\" in my_string  # False\n",
    "print(result)\n"
   ]
  },
  {
   "cell_type": "code",
   "execution_count": null,
   "id": "e7bc9bb2-7484-40f1-85a3-8c9684e427a4",
   "metadata": {},
   "outputs": [],
   "source": [
    "# Bitwise Operators:\n",
    "# Used to perform operations on individual bits of numbers.\n",
    "\n",
    "x = 10  # Binary: 1010\n",
    "y = 5   # Binary: 0101\n",
    "\n",
    "# AND (performs bitwise AND)\n",
    "result = x & y  # 2 (Binary: 0000)\n",
    "print(result)\n",
    "\n",
    "# OR (performs bitwise OR)\n",
    "result = x | y  # 15 (Binary: 1111)\n",
    "print(result)\n",
    "\n",
    "# XOR (performs bitwise XOR)\n",
    "result = x ^ y  # 13 (Binary: 1101)\n",
    "print(result)\n",
    "\n",
    "# NOT (performs bitwise NOT)\n",
    "result = ~x  # -11 (Binary: 10101)\n",
    "print(result)\n",
    "\n",
    "# Left shift (shifts bits to the left)\n",
    "result = x << 2  # 40 (Binary: 101000)\n",
    "print(result)\n",
    "\n",
    "# Right shift (shifts bits to the right)\n",
    "result = x >> 2  # 2 (Binary: 0010)\n",
    "print(result)\n"
   ]
  },
  {
   "cell_type": "code",
   "execution_count": null,
   "id": "b29a4a18-0266-4e3d-8c94-5084b15072fd",
   "metadata": {},
   "outputs": [],
   "source": [
    "bin(4)  # binary"
   ]
  },
  {
   "cell_type": "code",
   "execution_count": null,
   "id": "dd6f4ad9-808a-4e66-a21f-d8b3db094e25",
   "metadata": {},
   "outputs": [],
   "source": [
    "print(0b100)"
   ]
  },
  {
   "cell_type": "code",
   "execution_count": null,
   "id": "5b92afa6-6cc9-4217-8e2f-9f7dfba7bc03",
   "metadata": {},
   "outputs": [],
   "source": [
    "hex(1000)"
   ]
  },
  {
   "cell_type": "code",
   "execution_count": null,
   "id": "e85707e5-299f-4921-85cc-c8a607d24545",
   "metadata": {},
   "outputs": [],
   "source": [
    "oct(12349)"
   ]
  },
  {
   "cell_type": "markdown",
   "id": "e6267814-e600-428f-80af-b637a29ca500",
   "metadata": {
    "jp-MarkdownHeadingCollapsed": true
   },
   "source": [
    "### Python List\n",
    "Lists are ordered collections of elements enclosed in square brackets ([]). They can contain elements of different data types\n",
    "\n",
    "### Characteristics of Lists in Python\r\n",
    "\r\n",
    "- **Ordered**: Elements in a list are stored in a specific order and can be accessed by their index (starting from 0).\r\n",
    "- **Mutable**: You can change the elements of a list after it's created.\r\n",
    "- **Heterogeneous**: Lists can contain elements of different data types (e.g., integers, strings, floats).\r\n",
    "- **Indexing**: Elements are accessed using their index.\r\n",
    "- **Slicing**: You can extract subsets of a list using slicing.\r\n",
    "- **Methods**: Lists have various methods for common operations like adding, removing, sorting, and more.\r\n"
   ]
  },
  {
   "cell_type": "code",
   "execution_count": null,
   "id": "9c3c54f1-b916-4ca6-a0fb-9380f68433df",
   "metadata": {},
   "outputs": [],
   "source": [
    "my_list = [10, \"Hello\", 3.14, True]\n",
    "\n",
    "# Accessing elements\n",
    "print(my_list[0])  # Output: 10\n",
    "print(my_list[-1])  # Output: True\n",
    "\n",
    "# Slicing\n",
    "print(my_list[1:3])  # Output: ['Hello', 3.14]\n",
    "\n",
    "# Modifying elements\n",
    "my_list[2] = 5\n",
    "print(my_list)  # Output: [10, 'Hello', 5, True]\n",
    "\n",
    "# Adding elements\n",
    "my_list.append(\"World\")\n",
    "print(my_list)  # Output: [10, 'Hello', 5, True, 'World']\n",
    "\n",
    "# Removing elements\n",
    "my_list.remove(5)\n",
    "print(my_list)  # Output: [10, 'Hello', True, 'World']"
   ]
  },
  {
   "cell_type": "code",
   "execution_count": null,
   "id": "321a82fd-46b1-4d66-b7fd-f821eef750d3",
   "metadata": {},
   "outputs": [],
   "source": [
    "# append(): Adds an element to the end of the list.\n",
    "# Syntax: list.append(element)\n",
    "\n",
    "my_list = [1, 2, 3]\n",
    "my_list.append(4)  # List becomes [1, 2, 3, 4]\n",
    "my_list\n"
   ]
  },
  {
   "cell_type": "code",
   "execution_count": null,
   "id": "40919983-de92-44ab-8909-a07b26fc349c",
   "metadata": {},
   "outputs": [],
   "source": [
    "# insert(): Inserts an element at a specified index.\n",
    "# Syntax: list.insert(index, element)\n",
    "\n",
    "my_list = [1, 2, 3]\n",
    "my_list.insert(1, 'a')  # List becomes [1, 'a', 2, 3]\n",
    "my_list"
   ]
  },
  {
   "cell_type": "code",
   "execution_count": null,
   "id": "733c9c0b-6b58-45c5-beb1-3f74b5ffd841",
   "metadata": {},
   "outputs": [],
   "source": [
    "# remove(): Removes the first occurrence of a specified element from the list.\n",
    "# Syntax: list.remove(element)\n",
    "\n",
    "my_list = [1, 2, 3, 2]\n",
    "my_list.remove(2)  # List becomes [1, 3, 2]\n",
    "my_list"
   ]
  },
  {
   "cell_type": "code",
   "execution_count": null,
   "id": "52de0235-42ea-4687-a7bd-257512be189b",
   "metadata": {},
   "outputs": [],
   "source": [
    "# pop(): Removes the element at a specified index (or the last element if no index is provided) and returns it.\n",
    "# Syntax: list.pop(index)\n",
    "\n",
    "my_list = [1, 2, 3]\n",
    "last_element = my_list.pop()  # Removes and returns 3; list becomes [1, 2]\n",
    "print(last_element)\n",
    "\n",
    "element_at_index_0 = my_list.pop(0)  # Removes and returns 1; list becomes [2]\n",
    "print(element_at_index_0)\n"
   ]
  },
  {
   "cell_type": "code",
   "execution_count": null,
   "id": "77279205-2336-45f0-b148-ac6d41260148",
   "metadata": {},
   "outputs": [],
   "source": [
    "# index(): Returns the index of the first occurrence of a specified element. Raises a ValueError if the element is not found.\n",
    "# Syntax: list.index(element)\n",
    "\n",
    "my_list = [1, 2, 3]\n",
    "index_of_2 = my_list.index(2)  # Returns 1\n",
    "print(index_of_2)"
   ]
  },
  {
   "cell_type": "code",
   "execution_count": null,
   "id": "4e8f6814-f491-4393-85fe-8a87482361e1",
   "metadata": {},
   "outputs": [],
   "source": [
    "# count(): Returns the number of occurrences of a specified element in the list.\n",
    "# Syntax: list.count(element)\n",
    "\n",
    "my_list = [1, 2, 2, 3]\n",
    "count_of_2 = my_list.count(2)  # Returns 2\n",
    "print(count_of_2)"
   ]
  },
  {
   "cell_type": "code",
   "execution_count": null,
   "id": "792091cf-31a7-4d1c-a6c0-154edaf9a016",
   "metadata": {},
   "outputs": [],
   "source": [
    "# sort(): Sorts the elements of the list in ascending order. The list is sorted in place.\n",
    "# Syntax: list.sort()\n",
    "\n",
    "my_list = [3, 1, 2]\n",
    "my_list.sort()  # List becomes [1, 2, 3]\n",
    "my_list\n"
   ]
  },
  {
   "cell_type": "code",
   "execution_count": null,
   "id": "b4e14cf2-fd21-49d5-adbb-cc329c90b41b",
   "metadata": {},
   "outputs": [],
   "source": [
    "# reverse(): Reverses the order of the elements in the list in place.\n",
    "# Syntax: list.reverse()\n",
    "\n",
    "my_list = [1, 2, 3]\n",
    "my_list.reverse()  # List becomes [3, 2, 1]\n",
    "my_list"
   ]
  },
  {
   "cell_type": "code",
   "execution_count": null,
   "id": "26542f35-6347-49c6-97d9-6dfbe06c8521",
   "metadata": {},
   "outputs": [],
   "source": [
    "# copy(): Creates a shallow copy of the list.\n",
    "# Syntax: list.copy()\n",
    "\n",
    "my_list = [1, 2, 3]\n",
    "copied_list = my_list.copy()  # copied_list is [1, 2, 3]\n",
    "copied_list"
   ]
  },
  {
   "cell_type": "code",
   "execution_count": null,
   "id": "129d92e0-1dde-4600-905f-5a882cbf7483",
   "metadata": {},
   "outputs": [],
   "source": [
    "copied_list[0]= 'kunal'\n",
    "copied_list"
   ]
  },
  {
   "cell_type": "code",
   "execution_count": null,
   "id": "6a0d238e-b695-42f4-b556-24e306dad492",
   "metadata": {},
   "outputs": [],
   "source": [
    "my_list"
   ]
  },
  {
   "cell_type": "code",
   "execution_count": null,
   "id": "12af9fac-3166-4e9e-88f5-37a48b8f93e0",
   "metadata": {},
   "outputs": [],
   "source": [
    "# deep copy\n",
    "\n",
    "my_list = [1, 2, 3]\n",
    "copied_list = my_list\n",
    "\n",
    "print(my_list)\n",
    "print(copied_list)"
   ]
  },
  {
   "cell_type": "code",
   "execution_count": null,
   "id": "e60b5770-8828-4ed3-b9a5-e21fe462c384",
   "metadata": {},
   "outputs": [],
   "source": [
    "copied_list[0] = \"kunal\"\n",
    "\n",
    "print(copied_list)\n",
    "print(my_list)     # deep copy"
   ]
  },
  {
   "cell_type": "code",
   "execution_count": null,
   "id": "d446ceed-daa8-4d1b-8744-c3335261683d",
   "metadata": {},
   "outputs": [],
   "source": [
    "# clear(): Removes all elements from the list, resulting in an empty list.\n",
    "# Syntax: list.clear()\n",
    "\n",
    "my_list = [1, 2, 3]\n",
    "my_list.clear()  # List becomes []\n",
    "my_list"
   ]
  },
  {
   "cell_type": "code",
   "execution_count": null,
   "id": "0b05ffc1-8504-47dd-818a-3cfa1d9469e5",
   "metadata": {},
   "outputs": [],
   "source": [
    "# built-in func\n",
    "\n",
    "l = [10, 20, 40, 3, 22] \n",
    "\n",
    "\n",
    "# len() Returns the number of elements in a list.\n",
    "print(len(l))\n",
    "\n",
    "# max() Returns the maximum element from the list.\n",
    "print(max(l))\n",
    "\n",
    "# min() Returns the minimum element from the list.\n",
    "print(max(l))\n",
    "\n",
    "# sum() Returns the sum of all elements in the list (works only for numeric lists).\n",
    "print(sum(l))\n",
    "\n",
    "# sorted() Returns a new list containing all elements from the original list in sorted order.\n",
    "sorted_list = sorted(l)\n",
    "print(sorted_list)\n",
    "\n",
    "# reversed() Returns an **iterator** that accesses the list in reverse order.\n",
    "r_l = reversed(l)\n",
    "print(list(r_l))"
   ]
  },
  {
   "cell_type": "code",
   "execution_count": null,
   "id": "c20a5df1-e28d-49c3-ba3e-2001adff3620",
   "metadata": {},
   "outputs": [],
   "source": [
    "# all(): Returns True if all elements in the list are true (or if the list is empty).\n",
    "\n",
    "my_list = [True, True, True]\n",
    "print(all(my_list))  # Output: True\n"
   ]
  },
  {
   "cell_type": "code",
   "execution_count": null,
   "id": "6b833031-9dbd-442e-bbd2-6775dd1b126c",
   "metadata": {},
   "outputs": [],
   "source": [
    "# any(): Returns True if any element in the list is true. If the list is empty, it returns False.\n",
    "\n",
    "my_list = [False, True, False]\n",
    "print(any(my_list))  # Output: True\n"
   ]
  },
  {
   "cell_type": "code",
   "execution_count": null,
   "id": "564dcdbc-75e8-417b-8b9b-4ae69ae64313",
   "metadata": {},
   "outputs": [],
   "source": [
    "# enumerate(): Adds a counter to the list and returns it as an enumerate object.\n",
    "\n",
    "my_list = ['a', 'b', 'c']\n",
    "for index, value in enumerate(my_list):\n",
    "    print(index, value)  # Output: 0 a, 1 b, 2 c\n"
   ]
  },
  {
   "cell_type": "code",
   "execution_count": null,
   "id": "ff9fddaa-9c3f-4b65-b037-6741a8e33f4c",
   "metadata": {},
   "outputs": [],
   "source": [
    "# Slicing\n",
    "\n",
    "thislist = [\"apple\", \"banana\", \"cherry\"]\n",
    "mylist = thislist[:2]\n",
    "print(mylist)"
   ]
  },
  {
   "cell_type": "code",
   "execution_count": null,
   "id": "0784b94d-2cf4-4fff-add0-3d4977399879",
   "metadata": {},
   "outputs": [],
   "source": [
    "# Note: list is mutable, so we can change"
   ]
  },
  {
   "cell_type": "code",
   "execution_count": null,
   "id": "7be61558-4d3d-423a-ac20-4996acacdc6c",
   "metadata": {},
   "outputs": [],
   "source": [
    "# joining two lists\n",
    "# One of the easiest ways are by using the + operator.\n",
    "\n",
    "list1 = [\"a\", \"b\", \"c\"]\n",
    "list2 = [1, 2, 3]\n",
    "\n",
    "list3 = list1 + list2\n",
    "print(list3)"
   ]
  },
  {
   "cell_type": "code",
   "execution_count": null,
   "id": "f6998a0e-52a5-455f-8438-fea1bc812c53",
   "metadata": {},
   "outputs": [],
   "source": [
    "# Another way to join two lists is by appending \n",
    "# all the items from list2 into list1, one by one:)\n",
    "\n",
    "list1 = [\"a\", \"b\" , \"c\"]\n",
    "list2 = [1, 2, 3]\n",
    "\n",
    "for x in list2:\n",
    "  list1.append(x)\n",
    "\n",
    "print(list1)"
   ]
  },
  {
   "cell_type": "code",
   "execution_count": null,
   "id": "22463cbe-2b7e-4d21-ae33-70cabfa926db",
   "metadata": {},
   "outputs": [],
   "source": [
    "# extend() method,\n",
    "# where the purpose is to add elements from one list to another list:)\n",
    "\n",
    "list1 = [\"a\", \"b\" , \"c\"]\n",
    "list2 = [1, 2, 3]\n",
    "\n",
    "list1.extend(list2)\n",
    "print(list1)"
   ]
  },
  {
   "cell_type": "markdown",
   "id": "7d2c554f-a5fb-4f2e-bc8e-540a4c0e4b9d",
   "metadata": {
    "jp-MarkdownHeadingCollapsed": true
   },
   "source": [
    "### Python Tuples\n",
    "\n",
    "Tuples are a built-in data type in Python that are similar to lists but with some key differences.\n",
    "- Ordered\n",
    "- Immutable\n",
    "- Heterogeneous\n",
    "- Indexing\n",
    "- Slicing"
   ]
  },
  {
   "cell_type": "code",
   "execution_count": null,
   "id": "0d2a7d27-5060-41f0-81e5-f032bd15af9f",
   "metadata": {},
   "outputs": [],
   "source": [
    "# Creating tuples using () and tuple() constructure\n",
    "\n",
    "# Creating a tuple\n",
    "my_tuple = (1, 2, 3, 'a', 'b', 'c')\n",
    "print(my_tuple)\n",
    "print(type(my_tuple))\n",
    "\n",
    "# Using the tuple() constructor\n",
    "another_tuple = tuple([1, 2, 3, 4])\n",
    "print(another_tuple)\n",
    "print(type(another_tuple))"
   ]
  },
  {
   "cell_type": "code",
   "execution_count": null,
   "id": "58b56d39-1e04-4d9e-afd5-a699ce6e99ef",
   "metadata": {},
   "outputs": [],
   "source": [
    "# Accessing elements - indexing\n",
    "print(my_tuple[0])   # Output: 1\n",
    "print(my_tuple[3])   # Output: 'a'\n",
    "\n",
    "# Accessing elements - Slicing\n",
    "print(my_tuple[1:4])  # Output: (2, 3, 'a')\n"
   ]
  },
  {
   "cell_type": "code",
   "execution_count": null,
   "id": "aadfe60d-3ce2-4d65-aff9-90563bb68c71",
   "metadata": {},
   "outputs": [],
   "source": [
    "# Concatenation: You can concatenate two tuples using the + operator.\n",
    "\n",
    "t_1 = (1, 2, 3)\n",
    "t_2 = (4, 5, 6)\n",
    "\n",
    "concatenated = t_1 + t_2  # output: (1, 2, 3, 4, 5, 6)\n",
    "concatenated"
   ]
  },
  {
   "cell_type": "code",
   "execution_count": null,
   "id": "54753324-96b1-4df3-b23a-e6b051f0a10c",
   "metadata": {},
   "outputs": [],
   "source": [
    "# Repetition: You can repeat a tuple using the * operator.\n",
    "\n",
    "repeated = t_1 * 2 # output: (1, 2, 3, 1, 2, 3)\n",
    "repeated"
   ]
  },
  {
   "cell_type": "code",
   "execution_count": null,
   "id": "545e1a03-89af-481f-9a62-777b37844a55",
   "metadata": {},
   "outputs": [],
   "source": [
    "# Membership: You can check if an element exists in a tuple using the in operator.\n",
    "\n",
    "print(2 in t_1)  # output: True"
   ]
  },
  {
   "cell_type": "code",
   "execution_count": null,
   "id": "d4df41bc-ef41-440d-b3eb-583ab3909bd4",
   "metadata": {},
   "outputs": [],
   "source": [
    "len(t_1)"
   ]
  },
  {
   "cell_type": "code",
   "execution_count": null,
   "id": "9f271f6a-ca14-4895-af67-af7975bfc722",
   "metadata": {},
   "outputs": [],
   "source": [
    "# Counting and Indexing:\n",
    "# count(): Returns the number of occurrences of a specified element.\n",
    "\n",
    "my_tuple = (1, 2, 3, 'a', 'b', 'c')\n",
    "\n",
    "count_of_a = my_tuple.count('a')  # Output: 1\n",
    "print(count_of_a)\n",
    "\n",
    "# index(): Returns the index of the first occurrence of a specified element.\n",
    "index_of_3 = my_tuple.index(3)  # Output: 2\n",
    "print(index_of_3)"
   ]
  },
  {
   "cell_type": "markdown",
   "id": "64824f99-0eaa-4e8a-8d32-d801ecabf849",
   "metadata": {},
   "source": [
    "#### Tuples vs. Lists\n",
    "* **Mutability**: Lists are mutable (you can change their contents), while tuples are immutable.\n",
    "* **Performance**: Tuples generally have a smaller memory footprint and can be slightly faster than lists, making them suitable for fixed collections of items.\n",
    "\n",
    "#### When to Use Tuples\n",
    "* When you want to store a collection of items that should not change throughout the program.\n",
    "* When you need to use a collection as a dictionary key (since tuples are hashable, while lists are not)."
   ]
  },
  {
   "cell_type": "code",
   "execution_count": null,
   "id": "8fc5a407-96e3-4e99-9c07-0e3c1ecd5081",
   "metadata": {},
   "outputs": [],
   "source": [
    "# Add items in tuples\n",
    "\n",
    "# Convert into a list:)\n",
    "x = (\"apple\", \"banana\", \"cherry\")\n",
    "y = list(x)\n",
    "y[1] = \"kiwi\"\n",
    "x = tuple(y)\n",
    "\n",
    "print(x)"
   ]
  },
  {
   "cell_type": "code",
   "execution_count": null,
   "id": "36a51aa9-1212-4315-a505-8c507fedd2f9",
   "metadata": {},
   "outputs": [],
   "source": [
    "# Add tuple to a tuple\n",
    "thistuple = (\"apple\", \"banana\", \"cherry\")\n",
    "y = (\"orange\",)\n",
    "thistuple += y\n",
    "\n",
    "print(thistuple)"
   ]
  },
  {
   "cell_type": "code",
   "execution_count": null,
   "id": "0400a9e1-ac49-4625-96a9-31dbe63d307c",
   "metadata": {},
   "outputs": [],
   "source": [
    "a = (10) # this is not tuples its a int\n",
    "\n",
    "type(a)"
   ]
  },
  {
   "cell_type": "code",
   "execution_count": null,
   "id": "47863cdd-127f-44c4-b16a-5c02c2359a39",
   "metadata": {},
   "outputs": [],
   "source": [
    "a = (10,) # this is \n",
    "\n",
    "type(a)"
   ]
  },
  {
   "cell_type": "code",
   "execution_count": null,
   "id": "1e75b259-2bdb-4322-9a79-e3d05df3694f",
   "metadata": {},
   "outputs": [],
   "source": [
    "del a # completely deleting tuple"
   ]
  },
  {
   "cell_type": "code",
   "execution_count": null,
   "id": "cbe8d40c-6d64-41bf-8965-1cb9a92caa1e",
   "metadata": {},
   "outputs": [],
   "source": [
    "# Packing: Collecting multiple values into a single container \n",
    "# (like a tuple or list).\n",
    "\n",
    "packed_tuple = (1, 2, 3)\n",
    "packed_list = [4, 5, 6]\n",
    "\n",
    "print(packed_tuple)\n",
    "print(packed_list)"
   ]
  },
  {
   "cell_type": "code",
   "execution_count": null,
   "id": "e30666a4-648d-4ff5-9bd4-630ada8c623f",
   "metadata": {},
   "outputs": [],
   "source": [
    "# Unpacking: Extracting values from a container and assigning them to individual variables.\n",
    "\n",
    "a, b, c = (1, 2, 3)  # Unpacks tuple\n",
    "x, y, z = [4, 5, 6]  # Unpacks list\n",
    "\n",
    "print(a)\n",
    "print(x)\n"
   ]
  },
  {
   "cell_type": "code",
   "execution_count": null,
   "id": "e1c1c0e3-ba51-49fb-b9e5-637b22eb4002",
   "metadata": {},
   "outputs": [],
   "source": [
    "# Asterisk (*) Unpacking: Captures multiple remaining elements into a single variable\n",
    "\n",
    "a, *b = (1, 2, 3, 4)  # a = 1, b = [2, 3, 4]\n",
    "\n",
    "print(a)\n",
    "print(b)"
   ]
  },
  {
   "cell_type": "markdown",
   "id": "10e47833-be5c-4515-92c5-6443cbd2d63e",
   "metadata": {
    "jp-MarkdownHeadingCollapsed": true
   },
   "source": [
    "### Python Sets\n",
    "Sets are a built-in data type in Python that represent a collection of unique elements.\n",
    "- Unordered\n",
    "- Unique Elements\n",
    "- Mutable\n",
    "- Supports Mathematical Operations\n"
   ]
  },
  {
   "cell_type": "code",
   "execution_count": null,
   "id": "d0158ad9-875c-422c-881d-59d5155d801b",
   "metadata": {},
   "outputs": [],
   "source": [
    "# Creating Sets\n",
    "# We can create a set using curly braces {} or the set() constructor.\n",
    "\n",
    "# Using curly braces\n",
    "my_set = {1, 2, 3, 4, 5}\n",
    "print(my_set)  # Output: {1, 2, 3, 4, 5}\n",
    "\n",
    "# Using the set() constructor\n",
    "another_set = set([1, 2, 3, 4, 5])\n",
    "print(another_set)  # Output: {1, 2, 3, 4, 5}\n"
   ]
  },
  {
   "cell_type": "code",
   "execution_count": null,
   "id": "39245df9-a88e-40fe-b6da-159bf4bd3ec9",
   "metadata": {},
   "outputs": [],
   "source": [
    "# Common Set Operations\n",
    "# Adding Elements: we can add a single element or \n",
    "# multiple elements to a set using the add() and update() methods.\n",
    "\n",
    "my_set = {1, 2, 3}\n",
    "my_set.add(4)  # Add a single element\n",
    "print(my_set)  # Output: {1, 2, 3, 4}\n",
    "\n",
    "my_set.update([5, 6, 7])  # Add multiple elements\n",
    "print(my_set)  # Output: {1, 2, 3, 4, 5, 6, 7}\n",
    "\n"
   ]
  },
  {
   "cell_type": "code",
   "execution_count": null,
   "id": "d40139ea-7a22-48de-9a87-191590bfb000",
   "metadata": {},
   "outputs": [],
   "source": [
    "# Removing Elements: You can remove elements using remove() or discard() \n",
    "# (which doesn't raise an error if the element is not found).\n",
    "\n",
    "my_set.remove(4)  # Removes 4 from the set\n",
    "print(my_set)     # Output: {1, 2, 3, 5, 6, 7}\n",
    "\n",
    "my_set.discard(10)  # Does not raise an error if 10 is not found\n",
    "print(my_set)"
   ]
  },
  {
   "cell_type": "code",
   "execution_count": null,
   "id": "4666b40c-c6ca-495b-92f7-dad95ca8d324",
   "metadata": {},
   "outputs": [],
   "source": [
    "# Clearing a Set: You can remove all elements from a set using the clear() method.\n",
    "\n",
    "my_set.clear()\n",
    "print(my_set)  # Output: set()\n"
   ]
  },
  {
   "cell_type": "code",
   "execution_count": null,
   "id": "24808e8b-39c6-4be1-9cfe-d3a261d86dc9",
   "metadata": {},
   "outputs": [],
   "source": [
    "# Set Operations\n",
    "# Sets support various mathematical operations that are very useful:\n",
    "\n",
    "# Union: Combines elements from two sets.\n",
    "set_a = {1, 2, 3}\n",
    "set_b = {3, 4, 5}\n",
    "union_set = set_a | set_b  # or set_a.union(set_b)\n",
    "print(union_set)  # Output: {1, 2, 3, 4, 5}\n"
   ]
  },
  {
   "cell_type": "code",
   "execution_count": null,
   "id": "a146a895-0be8-479e-9373-3c892955ec31",
   "metadata": {},
   "outputs": [],
   "source": [
    "# Intersection: Finds common elements in both sets.\n",
    "intersection_set = set_a & set_b  # or set_a.intersection(set_b)\n",
    "print(intersection_set)  # Output: {3}\n"
   ]
  },
  {
   "cell_type": "code",
   "execution_count": null,
   "id": "f0b4370e-a91d-4b79-ae67-0e442fc28794",
   "metadata": {},
   "outputs": [],
   "source": [
    "# Difference: Elements in one set but not in another.\n",
    "\n",
    "difference_set = set_a - set_b  # or set_a.difference(set_b)\n",
    "print(difference_set)  # Output: {1, 2}\n"
   ]
  },
  {
   "cell_type": "code",
   "execution_count": null,
   "id": "6d163b67-fa13-48d6-b154-b3f2c6d98fb3",
   "metadata": {},
   "outputs": [],
   "source": [
    "# Symmetric Difference: Elements in either of the sets but not in both.\n",
    "\n",
    "symmetric_difference_set = set_a ^ set_b  # or set_a.symmetric_difference(set_b)\n",
    "print(symmetric_difference_set)  # Output: {1, 2, 4, 5}\n"
   ]
  },
  {
   "cell_type": "code",
   "execution_count": null,
   "id": "444300c2-909a-43da-bc76-c76912ed781b",
   "metadata": {},
   "outputs": [],
   "source": [
    "# Set Comprehensions\n",
    "# Similar to list comprehensions, you can create sets using set comprehensions.\n",
    "\n",
    "squared_set = {x ** 2 for x in range(10)}\n",
    "print(squared_set)  # Output: {0, 1, 4, 9, 16, 25, 36, 49, 64, 81}\n"
   ]
  },
  {
   "cell_type": "code",
   "execution_count": null,
   "id": "f90d4c8e-c17f-4ddc-830d-643106a8d977",
   "metadata": {},
   "outputs": [],
   "source": [
    "# remove(): if the item to remove does not exist, remove() will raise an error.\n",
    "\n",
    "thisset = {\"apple\", \"banana\", \"cherry\"}\n",
    "\n",
    "thisset.remove(\"banana\")\n",
    "\n",
    "print(thisset)\n"
   ]
  },
  {
   "cell_type": "code",
   "execution_count": null,
   "id": "e5423d2f-91e5-4d60-ab2b-65c1a543badb",
   "metadata": {},
   "outputs": [],
   "source": [
    "# discard(): If the item to remove does not exist, discard() will NOT raise an error.\n",
    "\n",
    "thisset = {\"apple\", \"banana\", \"cherry\"}\n",
    "\n",
    "thisset.discard(\"banana\")\n",
    "\n",
    "print(thisset)"
   ]
  },
  {
   "cell_type": "code",
   "execution_count": null,
   "id": "00330e72-4193-4996-8532-b930cee28a0f",
   "metadata": {},
   "outputs": [],
   "source": [
    "s = {10, 20, 30, 40, 50}\n",
    "\n",
    "print(s.pop())\n",
    "print(s)     #Sets are unordered, so when using the pop() method, you do not know which item that gets removed."
   ]
  },
  {
   "cell_type": "code",
   "execution_count": null,
   "id": "7bda2498-0b2a-4149-8e33-d15ce3cfdfdf",
   "metadata": {},
   "outputs": [],
   "source": [
    "# The clear() method empties the set:\n",
    "\n",
    "s.clear()\n",
    "\n",
    "print(s)"
   ]
  },
  {
   "cell_type": "code",
   "execution_count": null,
   "id": "7e657382-b0c0-4898-abfe-ead0ec00125d",
   "metadata": {},
   "outputs": [],
   "source": [
    "# del keyword will delete the set completely:\n",
    "\n",
    "a = {10, 30, 20, 40}\n",
    "del a\n",
    "# print(a)  ## NameError: name 'a' is not defined"
   ]
  },
  {
   "cell_type": "markdown",
   "id": "c4792c0a-81cc-47e7-bec5-3b55980e85b2",
   "metadata": {
    "jp-MarkdownHeadingCollapsed": true
   },
   "source": [
    "### Short Notes on Set Methods\n",
    "\n",
    "| Method                       | Shortcut | Description                                                              |\n",
    "|------------------------------|----------|--------------------------------------------------------------------------|\n",
    "| `add()`                      |          | Adds an element to the set.                                             |\n",
    "| `clear()`                    |          | Removes all the elements from the set.                                  |\n",
    "| `copy()`                     |          | Returns a copy of the set.                                             |\n",
    "| `difference()`               | -        | Returns a set containing the difference between two or more sets.      |\n",
    "| `difference_update()`        | `-=`     | Removes the items in this set that are also included in another, specified set. |\n",
    "| `discard()`                  |          | Removes the specified item from the set.                               |\n",
    "| `intersection()`             | `&`      | Returns a set that is the intersection of two other sets.              |\n",
    "| `intersection_update()`      | `&=`     | Removes the items in this set that are not present in other specified set(s). |\n",
    "| `isdisjoint()`              |          | Returns whether two sets have an intersection or not.                   |\n",
    "| `issubset()`                | `<=`     | Returns whether another set contains this set or not.                  |\n",
    "| `<`                          |          | Returns whether all items in this set are present in other specified set(s). |\n",
    "| `issuperset()`              | `>=`     | Returns whether this set contains another set or not.                  |\n",
    "| `>`                          |          | Returns whether all items in other specified set(s) are present in this set. |\n",
    "| `pop()`                      |          | Removes and returns an arbitrary element from the set.                 |\n",
    "| `remove()`                   |          | Removes the specified element from the set.                             |\n",
    "| `symmetric_difference()`     | `^`      | Returns a set with the symmetric differences of two sets.              |\n",
    "| `symmetric_difference_update()` | `^=`   | Inserts the symmetric differences from this set and another.           |\n",
    "| `union()`                    | `|`      | Returns a set containing the union of sets.                            |\n",
    "| `update()`                   | `|=`     | Updates the set with the union of this set and others.                |\n"
   ]
  },
  {
   "cell_type": "markdown",
   "id": "ba3103d8-697c-477d-b53a-184e396fbb97",
   "metadata": {
    "jp-MarkdownHeadingCollapsed": true
   },
   "source": [
    "### Python Dictionaries\n",
    "Dictionaries are used to store data values in key:value pairs.\r\n",
    "\r\n",
    "A dictionary is a collection which is ordered*, changeable and do not allow duplicates\n",
    "\n",
    "`As of Python version 3.7, dictionaries are ordered. In Python 3.6 and earlier, dictionaries are unordered`.\n"
   ]
  },
  {
   "cell_type": "code",
   "execution_count": null,
   "id": "52c77ce4-5af5-4dd7-9192-b0a8bd1b1e56",
   "metadata": {},
   "outputs": [],
   "source": [
    "# Creating a Dictionary\n",
    "# we can create a dictionary using curly braces {} or the dict() constructor.\n",
    "\n",
    "# Using curly braces\n",
    "my_dict = {\n",
    "    \"name\": \"Alice\",\n",
    "    \"age\": 30,\n",
    "    \"city\": \"New York\"\n",
    "}\n",
    "print(my_dict['name'])\n",
    "\n",
    "\n",
    "# Using dict() constructor\n",
    "my_dict = dict(name=\"Alice\", age=30, city=\"New York\")\n",
    "print(my_dict)\n"
   ]
  },
  {
   "cell_type": "code",
   "execution_count": null,
   "id": "351deae1-4bae-4ea6-9248-9607e2746a91",
   "metadata": {},
   "outputs": [],
   "source": [
    "# Accessing Dictionary Elements\n",
    "print(my_dict[\"name\"])  # Output: Alice\n"
   ]
  },
  {
   "cell_type": "code",
   "execution_count": null,
   "id": "0af89032-7035-491b-aa9f-9a2d71ea0500",
   "metadata": {},
   "outputs": [],
   "source": [
    "# Modifying a Dictionary\n",
    "\n",
    "my_dict[\"age\"] = 31          # Update existing value\n",
    "my_dict[\"occupation\"] = \"Engineer\"  # Add new key-value pair\n"
   ]
  },
  {
   "cell_type": "code",
   "execution_count": null,
   "id": "58940fcd-5caa-467d-be6f-5b26c0ca9449",
   "metadata": {},
   "outputs": [],
   "source": [
    "my_dict"
   ]
  },
  {
   "cell_type": "code",
   "execution_count": null,
   "id": "7c6d42f5-54a0-4d37-b340-c3b75b6dc042",
   "metadata": {},
   "outputs": [],
   "source": [
    "# Removing Elements- pop(), del, or clear()\n",
    "\n",
    "# Remove a specific key-value pair\n",
    "my_dict.pop(\"age\")  # Removes the key \"age\"\n",
    "\n",
    "# Remove a specific key-value pair using del\n",
    "del my_dict[\"city\"]\n",
    "\n",
    "# Clear all elements\n",
    "my_dict.clear()\n"
   ]
  },
  {
   "cell_type": "markdown",
   "id": "676aae4d-7cd7-4837-9020-976b74a39723",
   "metadata": {},
   "source": [
    "### Common Dictionary Methods\n",
    "\n",
    "| Method       | Description                                                                                              |\n",
    "|--------------|----------------------------------------------------------------------------------------------------------|\n",
    "| `keys()`     | Returns a view object that displays a list of all the keys in the dictionary.                          |\n",
    "| `values()`   | Returns a view object that displays a list of all the values in the dictionary.                        |\n",
    "| `items()`    | Returns a view object that displays a list of the dictionary's key-value tuple pairs.                   |\n",
    "| `get(key)`   | Returns the value associated with the key. If the key is not found, it returns `None` (or a specified default value). |\n",
    "| `update(other_dict)` | Updates the dictionary with the key-value pairs from another dictionary.                         |\n"
   ]
  },
  {
   "cell_type": "code",
   "execution_count": null,
   "id": "a9f82438-9fb5-4b0a-a729-1f5b21f11cb4",
   "metadata": {},
   "outputs": [],
   "source": [
    "# Creating a dictionary\n",
    "person = {\n",
    "    \"name\": \"Alice\",\n",
    "    \"age\": 30,\n",
    "    \"city\": \"New York\"\n",
    "}\n",
    "\n",
    "# Accessing elements\n",
    "print(person[\"name\"])  # Output: Alice\n",
    "\n",
    "# Modifying elements\n",
    "person[\"age\"] = 31\n",
    "person[\"occupation\"] = \"Engineer\"\n",
    "\n",
    "# Removing an element\n",
    "person.pop(\"city\")\n",
    "\n",
    "# Using methods\n",
    "print(person.keys())   # Output: dict_keys(['name', 'age', 'occupation'])\n",
    "print(person.values()) # Output: dict_values(['Alice', 31, 'Engineer'])\n",
    "print(person.items())  # Output: dict_items([('name', 'Alice'), ('age', 31), ('occupation', 'Engineer')])\n"
   ]
  },
  {
   "cell_type": "markdown",
   "id": "87fe023a-15c6-4b87-a250-509d934b4be3",
   "metadata": {
    "jp-MarkdownHeadingCollapsed": true
   },
   "source": [
    "### Python If...else\n",
    "if-else statement is used for decision-making. It allows us to execute certain blocks of code based on a condition.\n",
    "\n",
    "**Syntax**\n",
    "```python\n",
    "if condition:\r\n",
    "    # Code block executed if the condition is True\r\n",
    "else:\r\n",
    "    # Code block executed if the condition is Fa\n",
    "```lse\r\n"
   ]
  },
  {
   "cell_type": "code",
   "execution_count": null,
   "id": "6b727eaf-14d0-43c6-b2d7-99ea26745115",
   "metadata": {},
   "outputs": [],
   "source": [
    "age = 18\n",
    "\n",
    "if age >= 18:\n",
    "    print(\"You are eligible to vote.\")\n",
    "else:\n",
    "    print(\"You are not eligible to vote.\")\n"
   ]
  },
  {
   "cell_type": "markdown",
   "id": "d3dde89b-5116-4a46-94be-c76823100ce1",
   "metadata": {
    "jp-MarkdownHeadingCollapsed": true
   },
   "source": [
    "### elif (Else if)\n",
    "We can check multiple conditions using elif (short for \"else if\"). This is useful when there are multiple conditions to evaluate.\n",
    "\n",
    "**Syntax**\n",
    "```Python\n",
    "if condition1:\r\n",
    "    # Code block executed if condition1 is True\r\n",
    "elif condition2:\r\n",
    "    # Code block executed if condition2 is True\r\n",
    "else:\r\n",
    "    # Code block executed if none of the above conditions are True\r\n"
   ]
  },
  {
   "cell_type": "code",
   "execution_count": null,
   "id": "0de13f9e-86a2-4b2b-9951-81bfcd1546da",
   "metadata": {},
   "outputs": [],
   "source": [
    "score = 85\n",
    "\n",
    "if score >= 90:\n",
    "    print(\"Grade: A\")\n",
    "elif score >= 80:\n",
    "    print(\"Grade: B\")\n",
    "elif score >= 70:\n",
    "    print(\"Grade: C\")\n",
    "else:\n",
    "    print(\"Grade: F\")\n"
   ]
  },
  {
   "cell_type": "markdown",
   "id": "9bb55a9f-dd46-4962-b26f-eed164579174",
   "metadata": {
    "jp-MarkdownHeadingCollapsed": true
   },
   "source": [
    "### Nested if-else\n",
    "We can also nest if statements inside other if or else blocks."
   ]
  },
  {
   "cell_type": "code",
   "execution_count": null,
   "id": "9482b9ab-9252-44cd-b30f-f3194e4e4100",
   "metadata": {},
   "outputs": [],
   "source": [
    "num = 10\n",
    "\n",
    "if num > 0:\n",
    "    if num % 2 == 0:\n",
    "        print(f\"{num} is a positive even number.\")\n",
    "    else:\n",
    "        print(f\"{num} is a positive odd number.\")\n",
    "else:\n",
    "    print(f\"{num} is a negative number.\")\n"
   ]
  },
  {
   "cell_type": "markdown",
   "id": "919b5c07-f4c8-437a-9804-c4cc1ba2f3c5",
   "metadata": {
    "jp-MarkdownHeadingCollapsed": true
   },
   "source": [
    "### One-liner if-else (Ternary Operator)\n",
    "Python also supports a shorthand for if-else known as the ternary operator.\n",
    "\n",
    "**Syntax**:\n",
    "```python\n",
    "value_if_true if condition else value_if_false\r\n"
   ]
  },
  {
   "cell_type": "code",
   "execution_count": null,
   "id": "a8ec52f0-60a4-426d-8f22-54092ad29144",
   "metadata": {},
   "outputs": [],
   "source": [
    "age = 18\n",
    "status = \"Adult\" if age >= 18 else \"Minor\"\n",
    "print(status)\n"
   ]
  },
  {
   "cell_type": "markdown",
   "id": "e31232c7-5146-4231-9f79-9ffa7582d058",
   "metadata": {},
   "source": [
    "### input()\n",
    "The input() function in Python is used to take input from the user. It reads a line of text entered by the user and returns it as a string. \n",
    "\n",
    "We can use input() to prompt the user for information, and it is commonly used in interactive programs.\n",
    "\n",
    "**Syntax**:\n",
    "\n",
    "```python\n",
    "input([prompt])\n",
    "```\n",
    "\n",
    "- prompt (optional): A string that is displayed to the user, asking for input. It's not mandatory, but providing a prompt makes the input process clearer.\n"
   ]
  },
  {
   "cell_type": "markdown",
   "id": "1817c4d3-8c66-48f8-a01d-62283fa8110d",
   "metadata": {
    "jp-MarkdownHeadingCollapsed": true
   },
   "source": [
    "#### Example 1: Basic `input()`"
   ]
  },
  {
   "cell_type": "code",
   "execution_count": null,
   "id": "04ffb986-928a-46e3-8019-1b9f1de91a7e",
   "metadata": {},
   "outputs": [],
   "source": [
    "name = input(\"Enter your name: \")\n",
    "print(\"Hare Krsna, \" + name + \"!\")  # here, the input() function displays the prompt \"Enter your name: \", \n",
    "# waits for the user to type a name, and stores it in the variable name. The value is then printed.\n"
   ]
  },
  {
   "cell_type": "markdown",
   "id": "9161fbb5-68fc-4669-9eff-c9bffb58d5ac",
   "metadata": {},
   "source": [
    "#### Example 2: Input and Data Conversion\n",
    "The `input()` function always returns the user's input as a string. If we need another data type, such as an integer or a float, we must convert it explicitly using `int()`, `float()`, etc."
   ]
  },
  {
   "cell_type": "code",
   "execution_count": null,
   "id": "6d79535e-d95b-465c-82ca-b150a7b959e3",
   "metadata": {},
   "outputs": [],
   "source": [
    "age = int(input(\"Enter your age: \"))\n",
    "print(\"You are \" + str(age) + \" years old.\")\n",
    "# Here, the user inputs their age, and we use int() to convert the input from a string to an integer before using it."
   ]
  },
  {
   "cell_type": "markdown",
   "id": "4e5b382d-5967-4201-a09e-aa308eda79f0",
   "metadata": {
    "jp-MarkdownHeadingCollapsed": true
   },
   "source": [
    "#### Example 3: Input without a prompt\n",
    "We can also use `input()` without any prompt."
   ]
  },
  {
   "cell_type": "code",
   "execution_count": null,
   "id": "a23ef6ba-83d8-4bde-8557-99b99f882388",
   "metadata": {},
   "outputs": [],
   "source": [
    "data = input()\n",
    "print(\"You entered:\", data)\n",
    "# In this case, input() doesn't prompt the user for anything specific but still waits for input."
   ]
  },
  {
   "cell_type": "markdown",
   "id": "3ab0c933-7cd2-4ac6-8793-a30fd163241d",
   "metadata": {
    "jp-MarkdownHeadingCollapsed": true
   },
   "source": [
    "#### Using input() in a simple program"
   ]
  },
  {
   "cell_type": "code",
   "execution_count": null,
   "id": "a5eae4d3-5208-49bd-b55e-a3cfde6cbfaf",
   "metadata": {},
   "outputs": [],
   "source": [
    "num1 = int(input(\"Enter first number: \"))\n",
    "num2 = int(input(\"Enter second number: \"))\n",
    "result = num1 + num2\n",
    "print(\"The sum is:\", result)\n"
   ]
  },
  {
   "cell_type": "markdown",
   "id": "daee23f0-a32a-4fcb-b6d9-47fb5d11fede",
   "metadata": {},
   "source": [
    "#### Important Note:\r\n",
    "In Python, **indentation** (spaces or tabs at the start of a line) defines code blocks. Other languages like C or Java use curly braces `{}` to show where a block starts and ends. In Python, indentation tells the interpreter which lines of code belong together.\r\n",
    "\r\n",
    "### Example:\r\n",
    "```python\r\n",
    "if age >= 18:\r\n",
    "    print(\"Eligible to vote\")\r\n",
    "else:\r\n",
    "    print(\"Not eligiblor\n",
    " yet\")\r\n",
    "\n"
   ]
  },
  {
   "cell_type": "markdown",
   "id": "9f64f267-e4cc-439d-a644-a4abad163430",
   "metadata": {},
   "source": [
    "**If statement, without indentation (will raise an error):**"
   ]
  },
  {
   "cell_type": "code",
   "execution_count": null,
   "id": "febe96d5-6d14-4947-b948-d0cca622d56c",
   "metadata": {},
   "outputs": [],
   "source": [
    "a = 33\n",
    "b = 200\n",
    "if b > a:\n",
    "print(\"b is greater than a\") # you will get an error\n"
   ]
  },
  {
   "cell_type": "markdown",
   "id": "196f208d-2750-464f-9fcf-b8e00ee940b1",
   "metadata": {
    "jp-MarkdownHeadingCollapsed": true
   },
   "source": [
    "###  Python Loops\n",
    "\n",
    "Python has two primitive loops commands:)\n",
    "- `while` loops\n",
    "- `for` loops\n",
    "\n",
    "Loops allow you to execute a block of code multiple times."
   ]
  },
  {
   "cell_type": "markdown",
   "id": "660accd1-1fdd-4de8-9f7f-49667d32b9a0",
   "metadata": {},
   "source": [
    "#### while loop\n",
    "\n",
    "The `while` loop repeatedly executes a block of code as long as the condition is `True`.\n",
    "\n",
    "**Syntax**:\n",
    "```python\n",
    "while condition:\r\n",
    "    # Code to execute\r\n"
   ]
  },
  {
   "cell_type": "code",
   "execution_count": null,
   "id": "287aab96-d843-444e-9b96-53239160163f",
   "metadata": {},
   "outputs": [],
   "source": [
    "i = 1\n",
    "while i < 5:\n",
    "    print(i)\n",
    "    i += 1\n"
   ]
  },
  {
   "cell_type": "code",
   "execution_count": null,
   "id": "24e4bdbb-d825-4ef7-83dc-987d763bd340",
   "metadata": {},
   "outputs": [],
   "source": [
    "n = 5\n",
    "while n:\n",
    "    print(n)\n",
    "    n -= 1"
   ]
  },
  {
   "cell_type": "markdown",
   "id": "3fb2207b-d58b-4d4e-ba83-4b1d2963a945",
   "metadata": {},
   "source": [
    "#### for loop\n",
    "The for loop iterates over a sequence (such as a list, tuple, string, or range) and executes a block of code for each element.\n",
    "\n",
    "**Syntax**:\n",
    "```python\n",
    "for variable in sequence:\r\n",
    "    # Code to execute\r\n"
   ]
  },
  {
   "cell_type": "code",
   "execution_count": null,
   "id": "a5652651-a8d1-48e3-98db-8cacc5a0b826",
   "metadata": {},
   "outputs": [],
   "source": [
    "fruits = [\"apple\", \"banana\", \"cherry\"]\n",
    "for fruit in fruits:\n",
    "    print(fruit)\n"
   ]
  },
  {
   "cell_type": "code",
   "execution_count": null,
   "id": "d353e393-a805-47e5-af1c-d270f05cc2d4",
   "metadata": {},
   "outputs": [],
   "source": [
    "name = \"kunal\"\n",
    "for n in name:\n",
    "    print(n)"
   ]
  },
  {
   "cell_type": "markdown",
   "id": "eec20dcc-c2fc-4897-a42a-218ae6bc29ae",
   "metadata": {},
   "source": [
    "### Entry Control vs. Exit Control Loops\n",
    "\n",
    "| Feature           | Entry Control Loop (`while`, `for`) | Exit Control Loop (`do-while`) |\n",
    "|-------------------|-------------------------------------|--------------------------------|\n",
    "| Condition Check   | Before the loop body                | After the loop body            |\n",
    "| Minimum Iteration | May not execute even once           | Executes at least once         |\n",
    "| Loop Type         | `while`, `for`                      | `do-while` (in C, C++)         |\n"
   ]
  },
  {
   "cell_type": "markdown",
   "id": "4cd22587-d0b1-4b5c-88b3-e71eca58f57e",
   "metadata": {
    "jp-MarkdownHeadingCollapsed": true
   },
   "source": [
    "#### Control Statements for Loops:\n",
    "`break`: Terminates the loop prematurely.\n",
    "\n",
    "`continue`: Skips the current iteration and continues with the next one.\n",
    "\n",
    "`pass`: Does nothing and can be used as a placeholder."
   ]
  },
  {
   "cell_type": "markdown",
   "id": "00a48aa5-f7c0-46db-a1fa-3df112a3d7eb",
   "metadata": {
    "jp-MarkdownHeadingCollapsed": true
   },
   "source": [
    "#### Example of `break`:"
   ]
  },
  {
   "cell_type": "code",
   "execution_count": null,
   "id": "957e4485-5e29-44f0-ba35-7d46126419de",
   "metadata": {},
   "outputs": [],
   "source": [
    "for i in range(5):\n",
    "    if i == 3:\n",
    "        break\n",
    "    print(i)\n"
   ]
  },
  {
   "cell_type": "markdown",
   "id": "2c03d963-a534-483f-8de9-3d41b4944668",
   "metadata": {
    "jp-MarkdownHeadingCollapsed": true
   },
   "source": [
    "#### Example of `continue`:"
   ]
  },
  {
   "cell_type": "code",
   "execution_count": null,
   "id": "6d2303cb-aeca-442c-a7f8-7ffb9aa865c7",
   "metadata": {},
   "outputs": [],
   "source": [
    "for i in range(5):\n",
    "    if i == 3:\n",
    "        continue\n",
    "    print(i)\n"
   ]
  },
  {
   "cell_type": "markdown",
   "id": "f03fbbe6-9b1c-4564-8158-b99cbb340740",
   "metadata": {
    "jp-MarkdownHeadingCollapsed": true
   },
   "source": [
    "#### Example of `pass`:"
   ]
  },
  {
   "cell_type": "code",
   "execution_count": null,
   "id": "07ee9277-ffbe-457b-be35-2655a0b642be",
   "metadata": {},
   "outputs": [],
   "source": [
    "for i in range(5):\n",
    "    if i == 3:\n",
    "        pass\n",
    "    print(i)\n"
   ]
  },
  {
   "cell_type": "markdown",
   "id": "320fbf2c-d1b4-4549-ab18-66029dbc26cd",
   "metadata": {
    "jp-MarkdownHeadingCollapsed": true
   },
   "source": [
    "#### `else` with Loops\n",
    "Both for and while loops can have an optional else block, which is executed when the loop terminates normally (not through break)."
   ]
  },
  {
   "cell_type": "code",
   "execution_count": null,
   "id": "4041ae52-8156-4035-8ca8-52fcf501c854",
   "metadata": {},
   "outputs": [],
   "source": [
    "for i in range(3):\n",
    "    print(i)\n",
    "else:\n",
    "    print(\"Loop completed\")\n"
   ]
  },
  {
   "cell_type": "markdown",
   "id": "a9c17423-2473-4d6e-8198-cf126bb22e2f",
   "metadata": {
    "jp-MarkdownHeadingCollapsed": true
   },
   "source": [
    "#### `range()` Function\n",
    "The `range()` function generates a sequence of numbers, typically used in loops.\n",
    "\n",
    "**Syntax:**\n",
    "```python\n",
    "range(start, stop, step)\n",
    "```\n",
    "- start (optional): Beginning of the sequence (default is 0).\n",
    "- stop (required): End of the sequence (exclusive).\n",
    "- step (optional): Step/increment between numbers (default is 1)."
   ]
  },
  {
   "cell_type": "code",
   "execution_count": null,
   "id": "5c3e5caf-51d1-447a-8291-fbe622147b9b",
   "metadata": {},
   "outputs": [],
   "source": [
    "# Basic Range:)\n",
    "\n",
    "for i in range(5):\n",
    "    print(i)  # Output: 0 1 2 3 4\n"
   ]
  },
  {
   "cell_type": "code",
   "execution_count": null,
   "id": "ee0dc997-f379-4750-b600-c1697327ef16",
   "metadata": {},
   "outputs": [],
   "source": [
    "# Range with START and STOP:)\n",
    "\n",
    "for i in range(1, 10):\n",
    "    print(i)"
   ]
  },
  {
   "cell_type": "code",
   "execution_count": null,
   "id": "fab0c085-4017-434a-b480-df675b049214",
   "metadata": {},
   "outputs": [],
   "source": [
    "# Range with STEP\n",
    "for i in range(0, 10, 2):\n",
    "    print(i)  \n"
   ]
  },
  {
   "cell_type": "code",
   "execution_count": null,
   "id": "075a1b7b-93ae-49d6-879c-e445a5c22c78",
   "metadata": {},
   "outputs": [],
   "source": [
    "# Range with NEGATIVE STEP:)\n",
    "for i in range(10, 0, -2):\n",
    "    print(i)  # Output: 10 8 6 4 2\n",
    " \n"
   ]
  },
  {
   "cell_type": "code",
   "execution_count": null,
   "id": "414e14a2-8690-4957-9b87-36527bc6bdbd",
   "metadata": {},
   "outputs": [],
   "source": [
    "a = range(10)\n",
    "a"
   ]
  },
  {
   "cell_type": "code",
   "execution_count": null,
   "id": "7d192491-061c-42d9-b668-c4addde44a9d",
   "metadata": {},
   "outputs": [],
   "source": [
    "print(a)"
   ]
  },
  {
   "cell_type": "code",
   "execution_count": null,
   "id": "a91c2fff-730f-4358-b65f-8ff4e3a5e88a",
   "metadata": {},
   "outputs": [],
   "source": [
    "type(a)"
   ]
  },
  {
   "cell_type": "code",
   "execution_count": null,
   "id": "1c65b5c8-efd3-4061-80ee-d34d80ef36d4",
   "metadata": {},
   "outputs": [],
   "source": [
    "print(list(a))"
   ]
  },
  {
   "cell_type": "markdown",
   "id": "fe4885fd-5a99-4def-a1eb-fadb80fd51c3",
   "metadata": {
    "jp-MarkdownHeadingCollapsed": true
   },
   "source": [
    "### Python Functions:)\n",
    "\n",
    "- A function is a block of code which only runs when it is called.\n",
    "- You can pass data, known as parameters, into a function.\n",
    "- \r\n",
    "A function can return data as a resul\n",
    "- It allows you to group related statements for modular programming.\n",
    "\n",
    "**Functions enhance code reusability, readability, and organization. They encapsulate logic and allow for better maintainability of your code.**\n",
    "\n",
    "**Syntax**:\n",
    "```python\n",
    "def function_name(parameters):\r\n",
    "    # Code block\r\n",
    "    return value  # Option\n",
    "```\n",
    "\n",
    "**Calling a Function:**\n",
    "```python\n",
    "function_name(arguments) # Example: add_num(10, 56)al\r\n",
    "\r\n",
    "t.\n"
   ]
  },
  {
   "cell_type": "code",
   "execution_count": null,
   "id": "3dd3975f-4af9-4a8a-b7d3-f72481118f3c",
   "metadata": {},
   "outputs": [],
   "source": [
    "# TCS Asked this question in campus drive -> 2024\n",
    "def divisibility_check(n):\n",
    "    \"\"\"Check if the sum of the digits of n is divisible by 3.\"\"\"\n",
    "    digit_sum = 0\n",
    "    while n > 0:\n",
    "        ld = n % 10  # Get the last digit\n",
    "        digit_sum += ld  # Add it to the digit_sum\n",
    "        n //= 10  # Remove the last digit\n",
    "\n",
    "    return digit_sum % 3 == 0  # Return True if divisible by 3, otherwise False\n",
    "\n",
    "# Test the function\n",
    "print(divisibility_check(12))  # Output: True\n",
    "print(divisibility_check(123))  # Output: True\n",
    "print(divisibility_check(14))   # Output: False\n"
   ]
  },
  {
   "cell_type": "markdown",
   "id": "85614f96-48cb-49be-af17-23f84f30c028",
   "metadata": {},
   "source": [
    "#### Default Arguments:\n",
    "\n",
    "- You can set default values for parameters, allowing the function to be called with fewer arguments."
   ]
  },
  {
   "cell_type": "code",
   "execution_count": null,
   "id": "494b476a-d349-421f-9664-d4a647c01d79",
   "metadata": {},
   "outputs": [],
   "source": [
    "def greet(name=\"Guest\"):\n",
    "    print(f\"Hello, {name}!\")\n",
    "\n",
    "\n",
    "greet('kunal')\n",
    "greet()"
   ]
  },
  {
   "cell_type": "markdown",
   "id": "8565b227-e3ae-41b4-a33d-8427562185a4",
   "metadata": {},
   "source": [
    "#### Keyword Arguments:\n",
    "\n",
    "- When calling a function, you can specify parameters by name, making your code more readable."
   ]
  },
  {
   "cell_type": "code",
   "execution_count": null,
   "id": "9be63aae-d105-407f-87b1-2ef5f5be8340",
   "metadata": {},
   "outputs": [],
   "source": [
    "greet(name=\"kunal\")  # Output: Hello, kunal!\n"
   ]
  },
  {
   "cell_type": "markdown",
   "id": "2ab732f5-ab0d-4819-8be9-6a383610097a",
   "metadata": {},
   "source": [
    "#### Variable-Length Arguments:\n",
    "\n",
    "Use `*args` for non-keyword variable-length arguments and `**kwargs` for keyword variable-length arguments."
   ]
  },
  {
   "cell_type": "code",
   "execution_count": null,
   "id": "e6f24d41-1b16-4681-af7a-a47cb30242a6",
   "metadata": {},
   "outputs": [],
   "source": [
    "def add(*numbers):  # Non-keyword\n",
    "    return sum(numbers)\n",
    "\n",
    "def print_info(**info):  # Keyword\n",
    "    for key, value in info.items():\n",
    "        print(f\"{key}: {value}\")\n",
    "\n",
    "\n",
    "print(add(10, 20, 30, 40, 4, 5, 3, 78))\n",
    "print()\n",
    "\n",
    "print_info(name=\"kunal\", age=20, city=\"Pandhurna\")\n",
    "print_info(job=\"Data Engineer\", company=\"Tech Corp\", experience=\"4 years\")\n"
   ]
  },
  {
   "cell_type": "markdown",
   "id": "0e75f5e4-7bc3-46a0-b61d-850ec209b01a",
   "metadata": {},
   "source": [
    "#### Scope of Variables:\n",
    "\n",
    "Variables defined inside a function have a local scope and cannot be accessed outside the function. Global variables can be accessed from inside the function but can only be modified using the `global` keyword."
   ]
  },
  {
   "cell_type": "code",
   "execution_count": null,
   "id": "c9ff58f7-af64-484f-a046-43f94eaf3166",
   "metadata": {},
   "outputs": [],
   "source": [
    "global_var = \"I am a global variable\"  # This variable is global\n",
    "\n",
    "def access_global():\n",
    "    print(global_var)  # Accessing the global variable\n",
    "\n",
    "def modify_global():\n",
    "    global global_var  # Declare that we want to use the global variable\n",
    "    global_var = \"I have been modified\"  # Modifying the global variable\n",
    "\n",
    "# Accessing the global variable\n",
    "access_global()  # Output: I am a global variable\n",
    "\n",
    "# Modifying the global variable\n",
    "modify_global()\n",
    "\n",
    "# Accessing the modified global variable\n",
    "access_global()  # Output: I have been modified\n"
   ]
  },
  {
   "cell_type": "markdown",
   "id": "e7c618f0-01de-4c92-b9d8-498a2e76490a",
   "metadata": {},
   "source": [
    "#### Documentation:\n",
    "\n",
    "- You can use docstrings (enclosed in triple quotes) to document the purpose of the function, which can be accessed using the `help()` function or `.__doc__ ` attribute."
   ]
  },
  {
   "cell_type": "code",
   "execution_count": null,
   "id": "d09d0a1c-e13a-452a-8de2-466fb2c6a2e2",
   "metadata": {},
   "outputs": [],
   "source": [
    "def add_numbers(a, b=0):\n",
    "    \"\"\"Return the sum of a and b.\"\"\"\n",
    "    return a + b\n",
    "\n",
    "# Calling the function\n",
    "result = add_numbers(5)\n",
    "print(result)  # Output: 5\n"
   ]
  },
  {
   "cell_type": "code",
   "execution_count": null,
   "id": "8e7ceabd-3a24-478d-bcda-055186210dab",
   "metadata": {},
   "outputs": [],
   "source": [
    "help(add_numbers)"
   ]
  },
  {
   "cell_type": "code",
   "execution_count": null,
   "id": "1682f520-3d1b-40da-a7c6-7f10a9708123",
   "metadata": {},
   "outputs": [],
   "source": [
    "add_numbers.__doc__"
   ]
  },
  {
   "cell_type": "markdown",
   "id": "ea3056af-7f83-488a-a923-e61c48b4fded",
   "metadata": {
    "jp-MarkdownHeadingCollapsed": true
   },
   "source": [
    "### Python Lambda\n",
    "\n",
    "A lambda function is a small anonymous func\n",
    "\n",
    "A lambda func can take any no of args, but can only have expression.\n",
    "\n",
    "**Syntax**:\n",
    "```python\n",
    "    lambda args: exp\n",
    "\n",
    "```\n",
    "\n",
    "- Lambda functions are useful for creating quick, single-use functions without formally defining them using `def`.\n",
    "- They are often used in higher-order functions like `map()`, `filter()`, and `sorted()`."
   ]
  },
  {
   "cell_type": "code",
   "execution_count": null,
   "id": "3f3ddd2f-4804-4d6e-beaa-a348a7d01549",
   "metadata": {},
   "outputs": [],
   "source": [
    "# A simple lambda function that adds two numbers\n",
    "add = lambda x, y: x + y\n",
    "result = add(3, 5)  # Call the lambda function\n",
    "print(result)  # Output: 8\n"
   ]
  },
  {
   "cell_type": "code",
   "execution_count": null,
   "id": "2571f4e1-331f-4e03-80fd-bbd07a83b5dc",
   "metadata": {},
   "outputs": [],
   "source": [
    "# function definition to make a function that always triples the number you send in:\n",
    "\n",
    "def myfunc(n):\n",
    "  return lambda a : a * n\n",
    "\n",
    "mytripler = myfunc(3)\n",
    "\n",
    "print(mytripler(11))"
   ]
  },
  {
   "cell_type": "code",
   "execution_count": null,
   "id": "910207eb-67cd-483e-beee-527dfbdf6278",
   "metadata": {},
   "outputs": [],
   "source": []
  }
 ],
 "metadata": {
  "kernelspec": {
   "display_name": "Python 3 (ipykernel)",
   "language": "python",
   "name": "python3"
  },
  "language_info": {
   "codemirror_mode": {
    "name": "ipython",
    "version": 3
   },
   "file_extension": ".py",
   "mimetype": "text/x-python",
   "name": "python",
   "nbconvert_exporter": "python",
   "pygments_lexer": "ipython3",
   "version": "3.12.4"
  }
 },
 "nbformat": 4,
 "nbformat_minor": 5
}
