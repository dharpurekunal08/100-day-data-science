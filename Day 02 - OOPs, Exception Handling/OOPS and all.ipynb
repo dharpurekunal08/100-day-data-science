{
 "cells": [
  {
   "cell_type": "code",
   "execution_count": 1,
   "id": "252b8611-2f7a-48b0-9822-888faa5439c5",
   "metadata": {},
   "outputs": [
    {
     "name": "stdout",
     "output_type": "stream",
     "text": [
      "Hare Krsna!\n"
     ]
    }
   ],
   "source": [
    "print(\"Hare Krsna!\")"
   ]
  },
  {
   "cell_type": "markdown",
   "id": "68313dc4-3227-43a4-b421-9c3b3361e4d2",
   "metadata": {},
   "source": [
    "### High Order func\n",
    "High-order func in python are func that can take other func as arguments, return a function,or do both.\n",
    "They treat func as first-class citizens, meaning you can pass them around like any object.\n",
    "\n",
    "Here are some common examples of high-order functions in Python:"
   ]
  },
  {
   "cell_type": "markdown",
   "id": "28b6f084-5acf-486d-8016-b0a4135ed303",
   "metadata": {},
   "source": [
    "#### 1. Using Functions as Arguments\n",
    "You can pass a function as an argument to another function. This is commonly seen with functions like `map()`, `filter()`, and `reduce()`.\n",
    "\n",
    "**Example**: `map()`"
   ]
  },
  {
   "cell_type": "code",
   "execution_count": 4,
   "id": "66adf86e-f117-489b-8455-f31e855c5b7e",
   "metadata": {},
   "outputs": [
    {
     "name": "stdout",
     "output_type": "stream",
     "text": [
      "[1, 4, 9, 16, 25]\n"
     ]
    }
   ],
   "source": [
    "def square(x):\n",
    "    return x * x\n",
    "\n",
    "numbers = [1, 2, 3, 4, 5]\n",
    "squared_numbers = map(square, numbers)\n",
    "\n",
    "print(list(squared_numbers))"
   ]
  },
  {
   "cell_type": "markdown",
   "id": "b23da80b-1e2f-41d8-b380-75673fcb22e6",
   "metadata": {},
   "source": [
    "#### 2. Returning Functions from Functions\n",
    "A function can return another function.\n",
    "\n",
    "**Example**: Returning a Function"
   ]
  },
  {
   "cell_type": "code",
   "execution_count": 6,
   "id": "d43400fd-bb3e-4736-9398-8775807062f6",
   "metadata": {},
   "outputs": [
    {
     "name": "stdout",
     "output_type": "stream",
     "text": [
      "10\n"
     ]
    }
   ],
   "source": [
    "def multiplier(factor):\n",
    "    def multiply_by_factor(number):\n",
    "        return number * factor\n",
    "    return multiply_by_factor\n",
    "\n",
    "time_two = multiplier(2)\n",
    "print(time_two(5))"
   ]
  },
  {
   "cell_type": "markdown",
   "id": "224f5cc5-a727-48b2-b8d7-5baa4adf6788",
   "metadata": {},
   "source": [
    "#### 3. Functions like filter()\n",
    "The `filter()` function returns a filtered list of items based on a condition.\n",
    "\n",
    "**Example**: `filter()`"
   ]
  },
  {
   "cell_type": "code",
   "execution_count": 8,
   "id": "005914d7-1a52-486c-843f-6d344167209f",
   "metadata": {},
   "outputs": [
    {
     "name": "stdout",
     "output_type": "stream",
     "text": [
      "[2, 4, 6]\n"
     ]
    }
   ],
   "source": [
    "def is_even(num):\n",
    "    return num % 2 == 0\n",
    "\n",
    "numbers = [1, 2, 3, 4, 5, 6]\n",
    "even_numbers = filter(is_even, numbers)\n",
    "print(list(even_numbers))"
   ]
  },
  {
   "cell_type": "markdown",
   "id": "5dfff849-3dfd-4c85-a603-36aceb290106",
   "metadata": {},
   "source": [
    "#### 4. Using reduce()\n",
    "The`reduce()` function applies a function to all elements in a list and returns a single value. It’s found in the `functools` module.\n",
    "\n",
    "**Example**: `reduce()`"
   ]
  },
  {
   "cell_type": "code",
   "execution_count": 10,
   "id": "686511ac-8a05-4443-ad71-0dca84ce8073",
   "metadata": {},
   "outputs": [
    {
     "name": "stdout",
     "output_type": "stream",
     "text": [
      "15\n"
     ]
    }
   ],
   "source": [
    "from functools import reduce\n",
    "\n",
    "def add(x, y):\n",
    "    return x + y\n",
    "\n",
    "numbers = [1, 2, 3, 4, 5]\n",
    "result = reduce(add, numbers)\n",
    "print(result)"
   ]
  },
  {
   "cell_type": "markdown",
   "id": "78d46b09-a1a1-4b8f-aa6c-ad3757e05357",
   "metadata": {},
   "source": [
    "#### 5. Lambda Functions with High-Order Functions\n",
    "Lambda functions are often used with high-order functions to create anonymous, short functions.\n",
    "\n",
    "Example: Using `lambda` with `map()`"
   ]
  },
  {
   "cell_type": "code",
   "execution_count": 12,
   "id": "92e91e9b-7873-4bd8-906b-8513f29910a9",
   "metadata": {},
   "outputs": [
    {
     "name": "stdout",
     "output_type": "stream",
     "text": [
      "[1, 4, 9, 16, 25]\n"
     ]
    }
   ],
   "source": [
    "numbers = [1, 2, 3, 4, 5]\n",
    "squared_numbers = map(lambda x: x**2, numbers)\n",
    "print(list(squared_numbers))"
   ]
  },
  {
   "cell_type": "markdown",
   "id": "0134824a-41ba-4b37-a41c-5dea898e7fba",
   "metadata": {},
   "source": [
    "Using `lambda` with `filter()`"
   ]
  },
  {
   "cell_type": "code",
   "execution_count": 14,
   "id": "0f92c39c-6567-40a6-ba4f-b36f9fa7415b",
   "metadata": {},
   "outputs": [
    {
     "name": "stdout",
     "output_type": "stream",
     "text": [
      "[1, 3, 5, 7, 9]\n"
     ]
    }
   ],
   "source": [
    "numbers = [1, 2, 3, 4, 5, 6, 7, 8, 9, 10]\n",
    "\n",
    "# use filter to get only even number\n",
    "even_no = filter(lambda x: x%2, numbers)\n",
    "\n",
    "print(list(even_no))"
   ]
  },
  {
   "cell_type": "code",
   "execution_count": null,
   "id": "b63bb4f1-a1c5-45d5-b334-c4bd73454934",
   "metadata": {},
   "outputs": [],
   "source": []
  },
  {
   "cell_type": "markdown",
   "id": "dbf95444-ebd9-403b-a440-0bf3abc2958c",
   "metadata": {},
   "source": [
    "## Object Oriented Programming style - OOPS\n",
    "\n",
    "Object-Oriented Programming (OOP) in Python is a programming paradigm where objects (data and methods) are used to design and organize code. It provides a way to structure and model complex systems using concepts like **classes**, **objects**, **inheritance**, **polymorphism**, **encapsulation**, and **abstraction**.\n",
    "\n",
    "#### Key OOP Concepts in Python:\n",
    "#### **1. Classes and Objects**\n",
    "- **Class**: A blueprint for creating objects (instances). A class defines properties (attributes) and behaviors (methods) that the objects created from the class can have.\n",
    "\n",
    "- **Object**: An instance of a class. When a class is defined, objects are created from the class."
   ]
  },
  {
   "cell_type": "code",
   "execution_count": 16,
   "id": "b0b201aa-028f-42a5-91f6-4642e8d3fe02",
   "metadata": {},
   "outputs": [
    {
     "name": "stdout",
     "output_type": "stream",
     "text": [
      "4\n",
      "The Toyota Corolla is starting.\n"
     ]
    }
   ],
   "source": [
    "class Car:\n",
    "    # Class attribute\n",
    "    wheels = 4\n",
    "    \n",
    "    # Constructor\n",
    "    def __init__(self, make, model):\n",
    "        # Instance attributes\n",
    "        self.make = make\n",
    "        self.model = model\n",
    "    \n",
    "    # Method\n",
    "    def start(self):\n",
    "        print(f\"The {self.make} {self.model} is starting.\")\n",
    "\n",
    "# Creating an object (instance of the class)\n",
    "my_car = Car(\"Toyota\", \"Corolla\")\n",
    "\n",
    "# Accessing class attribute\n",
    "print(my_car.wheels)  # Output: 4\n",
    "\n",
    "# Calling a method\n",
    "my_car.start()  # Output: The Toyota Corolla is starting.\n"
   ]
  },
  {
   "cell_type": "markdown",
   "id": "fb66db5a-002e-4d6a-851f-f81a38e9baf1",
   "metadata": {},
   "source": [
    "#### The __init__() Function\n",
    "\n",
    "The `__init__()` function in Python is a special method, also known as a constructor. It is automatically called when a new instance of a class is created. The primary role of `__init__()` is to initialize the object's attributes (i.e., assign values to the instance variables).\n",
    "\n",
    "##### **Key Points**:\n",
    "- The `__init__()` function is optional but is commonly used to set up initial states for objects.\n",
    "- It can take parameters to initialize the attributes of the class.\n",
    "- It is the first method executed when an object is created.\n",
    "- The first parameter of `__init__()` is always self, which refers to the current instance of the class.\n"
   ]
  },
  {
   "cell_type": "code",
   "execution_count": 18,
   "id": "e7d9dfcc-48a8-42d4-8e17-357ba33d230c",
   "metadata": {},
   "outputs": [
    {
     "name": "stdout",
     "output_type": "stream",
     "text": [
      "kunal\n",
      "20\n",
      "My name is kunal and I am 20 years old.\n"
     ]
    }
   ],
   "source": [
    "class Person:\n",
    "    def __init__(self, name, age):\n",
    "        self.name = name  # Instance attribute\n",
    "        self.age = age    # Instance attribute\n",
    "\n",
    "    def introduce(self):\n",
    "        print(f\"My name is {self.name} and I am {self.age} years old.\")\n",
    "\n",
    "# Creating an object (instance) of the Person class\n",
    "person1 = Person(\"kunal\", 20)\n",
    "\n",
    "# Accessing the attributes\n",
    "print(person1.name)  # Output: kunal\n",
    "print(person1.age)   # Output: 20\n",
    "\n",
    "# Calling the method\n",
    "person1.introduce()  # Output: My name is kunal and I am 20 years old.\n"
   ]
  },
  {
   "cell_type": "code",
   "execution_count": 19,
   "id": "b04bfd63-01c7-4e55-9249-3ad677ff8bcd",
   "metadata": {},
   "outputs": [
    {
     "name": "stdout",
     "output_type": "stream",
     "text": [
      "Unknown\n",
      "0\n"
     ]
    }
   ],
   "source": [
    "# can also provide default values for the parameters in the __init__() function\n",
    "\n",
    "\n",
    "class Person:\n",
    "    def __init__(self, name=\"Unknown\", age=0):\n",
    "        self.name = name\n",
    "        self.age = age\n",
    "\n",
    "person2 = Person()\n",
    "print(person2.name)  # Output: Unknown\n",
    "print(person2.age)   # Output: 0\n"
   ]
  },
  {
   "cell_type": "markdown",
   "id": "55c12e6b-b74c-4911-b5b4-181380fb003a",
   "metadata": {},
   "source": [
    "#### The __str__() Function\n",
    "The `__str__()` function in Python is a special method used to define a human-readable string representation of an object. It is automatically called when you use the print() function or str() on an object. The purpose of `__str__()` is to return a string that is meaningful and easily understandable for the end-user when printing an instance of the class.\n",
    "\n",
    "**Key Points**:\n",
    "- The`__str__()` method should return a string that describes the object in a readable way.\n",
    "- If you don't define the `__str__()` method, the default output is a memory address or an object type string, which isn't very informative.\n",
    "- It is different from `__repr__()`, which is used for generating a more detailed, developer-focused string representation of the object\n"
   ]
  },
  {
   "cell_type": "code",
   "execution_count": 21,
   "id": "7e7628f2-9971-4e1c-a691-7b158aa4ea8a",
   "metadata": {},
   "outputs": [
    {
     "name": "stdout",
     "output_type": "stream",
     "text": [
      "Person(name: Alice, age: 30)\n"
     ]
    }
   ],
   "source": [
    "class Person:\n",
    "    def __init__(self, name, age):\n",
    "        self.name = name\n",
    "        self.age = age\n",
    "\n",
    "    def __str__(self):\n",
    "        return f\"Person(name: {self.name}, age: {self.age})\"\n",
    "\n",
    "# Creating an object of the Person class\n",
    "person1 = Person(\"Alice\", 30)\n",
    "\n",
    "# Printing the object\n",
    "print(person1)\n"
   ]
  },
  {
   "cell_type": "markdown",
   "id": "dab7989f-4a18-466d-8d83-98588c681ab5",
   "metadata": {},
   "source": [
    "**Difference between** __str__() **and** __repr__():\n",
    "\n",
    "- __str__() is for users and should return a readable and clean output.\n",
    "\n",
    "- __repr__() is for developers and should ideally return a string that could be used to recreate the object."
   ]
  },
  {
   "cell_type": "code",
   "execution_count": 23,
   "id": "2cf83d71-9653-433f-957e-91403c5823b7",
   "metadata": {},
   "outputs": [
    {
     "name": "stdout",
     "output_type": "stream",
     "text": [
      "Person(name: Charlie, age: 22)\n",
      "Person('Charlie', 22)\n"
     ]
    }
   ],
   "source": [
    "class Person:\n",
    "    def __init__(self, name, age):\n",
    "        self.name = name\n",
    "        self.age = age\n",
    "\n",
    "    def __str__(self):\n",
    "        return f\"Person(name: {self.name}, age: {self.age})\"\n",
    "\n",
    "    def __repr__(self):\n",
    "        return f\"Person('{self.name}', {self.age})\"\n",
    "\n",
    "person3 = Person(\"Charlie\", 22)\n",
    "print(str(person3))   # Output: Person(name: Charlie, age: 22)\n",
    "print(repr(person3))  # Output: Person('Charlie', 22)\n"
   ]
  },
  {
   "cell_type": "markdown",
   "id": "15d64f03-dbe8-4e99-a17a-4537106d2267",
   "metadata": {},
   "source": [
    "#### **The self**\n",
    "\n",
    "In Python, `self` is a convention used as the first parameter in instance methods to refer to the current instance (object) of the class. When you call a method on an object, Python automatically passes the object itself as the first argument to the method, which is represented by `self`.\n",
    "\n",
    "**Key Points**:\n",
    "**Purpose***: Refers to the current object.\n",
    "**Usage**: First parameter in instance methods.\n",
    "**Access**: Used to access instance attributes (e.g., `self.attribute`).\n",
    "**Convention**: Not a keyword, but a strong naming convention."
   ]
  },
  {
   "cell_type": "code",
   "execution_count": 25,
   "id": "5380506d-4d5e-42c5-8664-857af35f019d",
   "metadata": {},
   "outputs": [
    {
     "name": "stdout",
     "output_type": "stream",
     "text": [
      "Toyota\n"
     ]
    }
   ],
   "source": [
    "class Car:\n",
    "    def __init__(self, make):\n",
    "        self.make = make  # 'self.make' is an instance variable\n",
    "\n",
    "    def display(self):\n",
    "        print(self.make)\n",
    "\n",
    "car1 = Car(\"Toyota\")\n",
    "car1.display()  # Output: Toyota\n"
   ]
  },
  {
   "cell_type": "markdown",
   "id": "db0e90e3-9338-4ac3-8ede-f1172c11a7a9",
   "metadata": {},
   "source": [
    "#### Methods:\n",
    "Methods are functions defined inside a class that represent behaviors of an object.\n",
    "\n",
    "- **Instance Methods**: Require an instance of the class to be called and can access instance attributes.\n",
    "- **Class Methods**: Operate on class attributes and are defined using the `@classmethod decorator`.\n",
    "- **Static Methods**: Do not access class or instance data and are defined using the `@staticmethod decorator`."
   ]
  },
  {
   "cell_type": "code",
   "execution_count": 27,
   "id": "621d2f84-8650-4c04-be70-da5434708e64",
   "metadata": {},
   "outputs": [],
   "source": [
    "class Circle:\n",
    "    pi = 3.14  # Class attribute\n",
    "\n",
    "    def __init__(self, radius):\n",
    "        self.radius = radius  # Instance attribute\n",
    "\n",
    "    def area(self):  # Instance method\n",
    "        return Circle.pi * (self.radius ** 2)\n",
    "\n",
    "    @classmethod\n",
    "    def info(cls):  # Class method\n",
    "        return f\"This class represents a circle with pi value {cls.pi}\"\n",
    "\n",
    "    @staticmethod\n",
    "    def is_positive(num):  # Static method\n",
    "        return num > 0\n"
   ]
  },
  {
   "cell_type": "markdown",
   "id": "e874c0b8-5cf0-4817-909e-26115896be90",
   "metadata": {},
   "source": [
    "#### Abstraction:\n",
    "Abstraction hides the internal implementation details and shows only the necessary functionality. It is achieved using **abstract classes** and **abstract methods**, which must be defined in child classes. Abstract classes are created using the `abc` module."
   ]
  },
  {
   "cell_type": "code",
   "execution_count": 29,
   "id": "92223bd6-54ee-4a87-bd3e-13084080e52b",
   "metadata": {},
   "outputs": [
    {
     "name": "stdout",
     "output_type": "stream",
     "text": [
      "16\n"
     ]
    }
   ],
   "source": [
    "from abc import ABC, abstractmethod\n",
    "\n",
    "class Shape(ABC):\n",
    "    @abstractmethod\n",
    "    def area(self):\n",
    "        pass\n",
    "\n",
    "class Square(Shape):\n",
    "    def __init__(self, side):\n",
    "        self.side = side\n",
    "\n",
    "    def area(self):\n",
    "        return self.side * self.side\n",
    "\n",
    "square = Square(4)\n",
    "print(square.area())  # Output: 16\n"
   ]
  },
  {
   "cell_type": "markdown",
   "id": "93e0209f-92ac-4bfa-b1c3-2a9292d2c1c5",
   "metadata": {},
   "source": [
    "#### Destructors (__del__() Method):\n",
    "The `__del__()` method is the destructor in Python, which is called when an object is about to be destroyed. It's used for cleanup actions."
   ]
  },
  {
   "cell_type": "code",
   "execution_count": 31,
   "id": "f08ab188-e304-48fb-b428-0d40339b0757",
   "metadata": {},
   "outputs": [
    {
     "name": "stdout",
     "output_type": "stream",
     "text": [
      "Car object is created!\n",
      "Car object is destroyed!\n"
     ]
    }
   ],
   "source": [
    "class Car:\n",
    "    def __init__(self):\n",
    "        print(\"Car object is created!\")\n",
    "    def __del__(self):\n",
    "        print(\"Car object is destroyed!\")\n",
    "\n",
    "car1 = Car()\n",
    "del car1  # Output: Car object is destroyed\n"
   ]
  },
  {
   "cell_type": "markdown",
   "id": "c3304c94-42e4-47da-9910-257c95742e4d",
   "metadata": {},
   "source": [
    "# Operator Overloading in Python\n",
    "\n",
    "**Operator Overloading** in Python allows you to define or change the behavior of built-in operators for user-defined objects. This enables operators like `+`, `-`, `*`, `==`, etc., to work with objects (instances of a class) in a meaningful way.\n",
    "\n",
    "In Python, operator overloading is achieved by defining special methods, also known as **magic methods** or **dunder methods** (methods surrounded by double underscores `__`).\n",
    "\n",
    "## Common Special Methods for Operator Overloading:\n",
    "\n",
    "| Operator | Special Method             |\n",
    "|----------|----------------------------|\n",
    "| `+`      | `__add__(self, other)`      |\n",
    "| `-`      | `__sub__(self, other)`      |\n",
    "| `*`      | `__mul__(self, other)`      |\n",
    "| `/`      | `__truediv__(self, other)`  |\n",
    "| `==`     | `__eq__(self, other)`       |\n",
    "| `<`      | `__lt__(self, other)`       |\n",
    "| `<=`     | `__le__(self, other)`       |\n",
    "| `>`      | `__gt__(self, other)`       |\n",
    "| `>=`     | `__ge__(self, other)`       |\n",
    "\n",
    "### Example of Operator Overloading\n",
    "\n",
    "#### Overloading the `+` Operator:\n",
    "\n",
    "```python\n",
    "class Point:\n",
    "    def __init__(self, x, y):\n",
    "        self.x = x\n",
    "        self.y = y\n",
    "\n",
    "    def __add__(self, other):\n",
    "        return Point(self.x + other.x, self.y + other.y)\n",
    "\n",
    "    def __repr__(self):\n",
    "        return f\"Point({self.x}, {self.y})\"\n",
    "\n",
    "# Create two Point objects\n",
    "p1 = Point(1, 2)\n",
    "p2 = Point(3, 4)\n",
    "\n",
    "# Add them using overloaded + operator\n",
    "p3 = p1 + p2  # This calls p1.__add__(p2)\n",
    "print(p3)     # Output: Point(4, 6)\n"
   ]
  },
  {
   "cell_type": "code",
   "execution_count": 33,
   "id": "d5eacdaa-0092-4545-a4da-7b556714bc2c",
   "metadata": {},
   "outputs": [
    {
     "name": "stdout",
     "output_type": "stream",
     "text": [
      "True\n"
     ]
    }
   ],
   "source": [
    "class Book:\n",
    "    def __init__(self, title, author):\n",
    "        self.title = title\n",
    "        self.author = author\n",
    "\n",
    "    def __eq__(self, other):\n",
    "        return self.title == other.title and self.author == other.author\n",
    "\n",
    "    def __repr__(self):\n",
    "        return f\"Book({self.title}, {self.author})\"\n",
    "\n",
    "# Create two Book objects\n",
    "book1 = Book(\"1984\", \"George Orwell\")\n",
    "book2 = Book(\"1984\", \"George Orwell\")\n",
    "\n",
    "# Compare them using the overloaded == operator\n",
    "print(book1 == book2)  # Output: True\n"
   ]
  },
  {
   "cell_type": "markdown",
   "id": "97d7a491-14e3-462d-97db-cd722b13b3c7",
   "metadata": {},
   "source": [
    "## Why Use Operator Overloading?\n",
    "\n",
    "- **Intuitive Syntax**: It makes your custom objects behave like built-in types.\n",
    "- **Code Readability**: Simplifies code by using operators in a meaningful way for custom classes.\n",
    "- **Flexibility**: You can define how operators should behave for your objects.\n",
    "\n",
    "## Other Operators and Magic Methods:\n",
    "\n",
    "### Comparison Operators:\n",
    "- `__eq__(self, other)` for `==`\n",
    "- `__ne__(self, other)` for `!=`\n",
    "- `__lt__(self, other)` for `<`\n",
    "- `__le__(self, other)` for `<=`\n",
    "- `__gt__(self, other)` for `>`\n",
    "- `__ge__(self, other)` for `>=`\n",
    "\n",
    "### Unary Operators:\n",
    "- `__neg__(self)` for unary `-` (negation)\n",
    "- `__pos__(self)` for unary `+` (positive)\n",
    "\n",
    "### Other Arithmetic Operators:\n",
    "- `__sub__(self, other)` for `-` (subtraction)\n",
    "- `__mul__(self, other)` for `*` (multiplication)\n",
    "- `__truediv__(self, other)` for `/` (division)\n",
    "- `__floordiv__(self, other)` for `//` (floor division)\n",
    "- `__mod__(self, other)` for `%` (modulo)\n",
    "\n",
    "### In-Place Operators:\n",
    "- `__iadd__(self, other)` for `+=`\n",
    "- `__isub__(self, other)` for `-=`\n",
    "- `__imul__(self, other)` for `*=`\n",
    "- `__itruediv__(self, other)` for `/=`\n"
   ]
  },
  {
   "cell_type": "code",
   "execution_count": null,
   "id": "4850f360-4d0a-4c54-946b-4559025a1dbf",
   "metadata": {},
   "outputs": [],
   "source": []
  },
  {
   "cell_type": "markdown",
   "id": "029b085f-8464-4df9-9a76-aea43d0afa3c",
   "metadata": {},
   "source": [
    "#### Inheritance\n",
    "Certainly! Inheritance is a fundamental concept in object-oriented programming (OOP) that allows a class (the **derived class** or **child class**) to inherit attributes and methods from another class (the **base class** or **parent class**). This mechanism promotes code reuse, modular design, and the creation of hierarchical relationships between classes.\n",
    "\n",
    "**Key Points**:\n",
    "- **Reuse of code**: Inheritance allows a child class to reuse the code and functionality of the parent class.\n",
    "- **Extend functionality**: The child class can add new attributes or methods, or override existing ones from the parent class.\n",
    "- **Types of inheritance**: Single inheritance, multiple inheritance, multilevel inheritance, hierarchical inheritance."
   ]
  },
  {
   "cell_type": "markdown",
   "id": "206f589c-6f8e-4673-aa93-d855eb1dc3de",
   "metadata": {},
   "source": [
    "#### **Types of Inheritance**:\n",
    "1. **Single Inheritance**:  A derived class inherits from a single base class."
   ]
  },
  {
   "cell_type": "code",
   "execution_count": 37,
   "id": "7f7badbd-d323-4730-8c43-3ab0b8fe5d51",
   "metadata": {},
   "outputs": [
    {
     "name": "stdout",
     "output_type": "stream",
     "text": [
      "This is the Parent class.\n",
      "This is the Child class.\n"
     ]
    }
   ],
   "source": [
    "class Parent:\n",
    "    def show(self):\n",
    "        print(\"This is the Parent class.\")\n",
    "\n",
    "class Child(Parent):\n",
    "    def display(self):\n",
    "        print(\"This is the Child class.\")\n",
    "\n",
    "# Example usage\n",
    "child = Child()\n",
    "child.show()    # Inherited from Parent\n",
    "child.display() # Defined in Child\n"
   ]
  },
  {
   "cell_type": "markdown",
   "id": "d6a8e637-fed6-40c3-bfeb-31464bd1a0c0",
   "metadata": {},
   "source": [
    "2. **Multiple Inheritance**:  A derived class inherits from multiple base classes."
   ]
  },
  {
   "cell_type": "code",
   "execution_count": 39,
   "id": "7f3c1dcb-0fbe-4a35-be66-a853942070c6",
   "metadata": {},
   "outputs": [
    {
     "name": "stdout",
     "output_type": "stream",
     "text": [
      "This is papa.\n",
      "This is mamma.\n",
      "Hello from the Child class.\n"
     ]
    }
   ],
   "source": [
    "class Papa:\n",
    "    def show(self):\n",
    "        print(\"This is papa.\")\n",
    "\n",
    "class Mamma:\n",
    "    def display(self):\n",
    "        print(\"This is mamma.\")\n",
    "\n",
    "class Child(Papa, Mamma):\n",
    "    def greet(self):\n",
    "        print(\"Hello from the Child class.\")\n",
    "\n",
    "# Example usage\n",
    "child = Child()\n",
    "child.show()    # Inherited from Parent1\n",
    "child.display() # Inherited from Parent2\n",
    "child.greet()   # Defined in Child\n"
   ]
  },
  {
   "cell_type": "markdown",
   "id": "7b9fed02-cfa8-4bbb-82f2-9db569ac88e3",
   "metadata": {},
   "source": [
    "3. **Multilevel Inheritance**: A class is derived from another derived class."
   ]
  },
  {
   "cell_type": "code",
   "execution_count": 41,
   "id": "ea64576e-1948-4e03-932d-6e100eac9ce5",
   "metadata": {},
   "outputs": [
    {
     "name": "stdout",
     "output_type": "stream",
     "text": [
      "This is the Grandparent class.\n",
      "This is the Parent class.\n",
      "Hello from the Child class.\n"
     ]
    }
   ],
   "source": [
    "class Grandparent:\n",
    "    def show(self):\n",
    "        print(\"This is the Grandparent class.\")\n",
    "\n",
    "class Parent(Grandparent):\n",
    "    def display(self):\n",
    "        print(\"This is the Parent class.\")\n",
    "\n",
    "class Child(Parent):\n",
    "    def greet(self):\n",
    "        print(\"Hello from the Child class.\")\n",
    "\n",
    "# Example usage\n",
    "child = Child()\n",
    "child.show()    # Inherited from Grandparent\n",
    "child.display() # Inherited from Parent\n",
    "child.greet()   # Defined in Child\n"
   ]
  },
  {
   "cell_type": "markdown",
   "id": "a332fa14-87fe-4e55-9b84-70f7ee48140e",
   "metadata": {},
   "source": [
    "4. **Hierarchical Inheritance**: Multiple child classes inherit from the same parent class"
   ]
  },
  {
   "cell_type": "code",
   "execution_count": 43,
   "id": "8d1d508a-bcec-4bb7-9d39-c7c66cfb107c",
   "metadata": {},
   "outputs": [
    {
     "name": "stdout",
     "output_type": "stream",
     "text": [
      "This is the Parent class.\n",
      "This is Child1 class.\n",
      "This is the Parent class.\n",
      "Hello from Child2 class.\n"
     ]
    }
   ],
   "source": [
    "class Parent:\n",
    "    def show(self):\n",
    "        print(\"This is the Parent class.\")\n",
    "\n",
    "class Child1(Parent):\n",
    "    def display(self):\n",
    "        print(\"This is Child1 class.\")\n",
    "\n",
    "class Child2(Parent):\n",
    "    def greet(self):\n",
    "        print(\"Hello from Child2 class.\")\n",
    "\n",
    "# Example usage\n",
    "child1 = Child1()\n",
    "child1.show()    # Inherited from Parent\n",
    "child1.display() # Defined in Child1\n",
    "\n",
    "child2 = Child2()\n",
    "child2.show()    # Inherited from Parent\n",
    "child2.greet()   # Defined in Child2\n"
   ]
  },
  {
   "cell_type": "markdown",
   "id": "56ca163f-4064-4045-92ca-854829594668",
   "metadata": {},
   "source": [
    "5. **Hybrid Inheritance**: A combination of two or more types of inheritance."
   ]
  },
  {
   "cell_type": "code",
   "execution_count": 45,
   "id": "d7d591c5-fbe7-42b8-a56a-cccf09374835",
   "metadata": {},
   "outputs": [
    {
     "name": "stdout",
     "output_type": "stream",
     "text": [
      "I am a Bat\n",
      "Animal sound\n",
      "Walks on legs\n",
      "Flies in the sky\n"
     ]
    }
   ],
   "source": [
    "class Animal:\n",
    "    def speak(self):\n",
    "        print(\"Animal sound\")\n",
    "\n",
    "class Mammal(Animal):\n",
    "    def walk(self):\n",
    "        print(\"Walks on legs\")\n",
    "\n",
    "class Bird(Animal):\n",
    "    def fly(self):\n",
    "        print(\"Flies in the sky\")\n",
    "\n",
    "class Bat(Mammal, Bird):\n",
    "    def __init__(self):\n",
    "        print(\"I am a Bat\")\n",
    "\n",
    "# Example usage\n",
    "bat = Bat()\n",
    "bat.speak()  # Inherited from Animal\n",
    "bat.walk()   # Inherited from Mammal\n",
    "bat.fly()    # Inherited from Bird\n"
   ]
  },
  {
   "cell_type": "markdown",
   "id": "c902a8e6-a098-4256-9373-231c914c7500",
   "metadata": {},
   "source": [
    "#### **Key Concepts of Inheritance**\n",
    "1. **Base Class**: The class being inherited from. It can have attributes and methods that are common to all derived classes.\n",
    "\n",
    "2. **Derived Class**: The class that inherits from the base class. It can have additional attributes and methods or override methods from the base class.\n",
    "\n",
    "3. **Access Specifiers**: In Python, access control is not as strict as in some other languages like C++. However, naming conventions are used to indicate intended access:\n",
    "\n",
    "    - **Public**: Members (attributes and methods) that can be accessed from anywhere (default).\n",
    "    - **Protected**: Members that should not be accessed outside the class and its subclasses (indicated by a single underscore prefix, e.g., _protected_var).\n",
    "    - **Private**: Members that should not be accessed from outside the class (indicated by a double underscore prefix, e.g., `__private_var`)."
   ]
  },
  {
   "cell_type": "code",
   "execution_count": 47,
   "id": "9fd00146-b70a-4bdd-8c46-e8378fbefceb",
   "metadata": {},
   "outputs": [
    {
     "name": "stdout",
     "output_type": "stream",
     "text": [
      "I am a public variable\n",
      "This is a public method\n"
     ]
    }
   ],
   "source": [
    "class MyClass:\n",
    "    def __init__(self):\n",
    "        self.public_var = \"I am a public variable\"\n",
    "\n",
    "    def public_method(self):\n",
    "        print(\"This is a public method\")\n",
    "\n",
    "obj = MyClass()\n",
    "print(obj.public_var)    # Accessing public variable\n",
    "obj.public_method()      # Calling public method\n"
   ]
  },
  {
   "cell_type": "code",
   "execution_count": 48,
   "id": "5a66f473-de30-49dd-ad93-486953641986",
   "metadata": {},
   "outputs": [
    {
     "name": "stdout",
     "output_type": "stream",
     "text": [
      "I am a protected variable\n",
      "I am a protected variable\n"
     ]
    }
   ],
   "source": [
    "class BaseClass:\n",
    "    def __init__(self):\n",
    "        self._protected_var = \"I am a protected variable\"\n",
    "\n",
    "class DerivedClass(BaseClass):\n",
    "    def access_protected(self):\n",
    "        print(self._protected_var)  # Accessing protected variable from subclass\n",
    "\n",
    "\n",
    "obj = DerivedClass()\n",
    "obj.access_protected()  # Valid access\n",
    "print(obj._protected_var)  # Valid but not recommended access\n"
   ]
  },
  {
   "cell_type": "code",
   "execution_count": 49,
   "id": "3f581351-9717-4bbc-8d7c-fadb2cf7bb02",
   "metadata": {},
   "outputs": [
    {
     "name": "stdout",
     "output_type": "stream",
     "text": [
      "I am a private variable\n",
      "This is a private method\n",
      "I am a private variable\n"
     ]
    }
   ],
   "source": [
    "class MyClass:\n",
    "    def __init__(self):\n",
    "        self.__private_var = \"I am a private variable\"\n",
    "\n",
    "    def __private_method(self):\n",
    "        print(\"This is a private method\")\n",
    "\n",
    "    def access_private(self):\n",
    "        print(self.__private_var)  # Accessing private variable from within the class\n",
    "        self.__private_method()     # Calling private method from within the class\n",
    "\n",
    "obj = MyClass()\n",
    "obj.access_private()       # Valid access to private members\n",
    "# print(obj.__private_var)  # Raises AttributeError: 'MyClass' object has no attribute '__private_var'\n",
    "# obj.__private_method()     # Raises AttributeError: 'MyClass' object has no attribute '__private_method'\n",
    "\n",
    "# Accessing private variable using name mangling\n",
    "print(obj._MyClass__private_var)  # Accessing private variable (not recommended)\n"
   ]
  },
  {
   "cell_type": "markdown",
   "id": "08fb8685-f16b-4c33-9d82-33077eeb8e79",
   "metadata": {},
   "source": [
    "#### **Name mangling**\n",
    "is a technique used in Python to avoid naming conflicts in subclasses, especially with private attributes and methods. When a name is prefixed with double underscores (e.g., `__private_var`), Python alters the name to include the class name, making it more unique. This is intended to prevent accidental access or modification of private members from outside the class or from subclasses.\n",
    "\n",
    "**How Name Mangling Works**\n",
    "When you define a variable or method with double underscores, Python changes its name by adding the class name as a prefix. This process is known as name mangling."
   ]
  },
  {
   "cell_type": "code",
   "execution_count": 51,
   "id": "62657914-78e3-4a6b-884d-2046bd5a2021",
   "metadata": {},
   "outputs": [
    {
     "name": "stdout",
     "output_type": "stream",
     "text": [
      "'MyClass' object has no attribute '__private_var'\n",
      "I am private\n",
      "This is a private method\n",
      "None\n"
     ]
    }
   ],
   "source": [
    "class MyClass:\n",
    "    def __init__(self):\n",
    "        self.__private_var = \"I am private\"\n",
    "\n",
    "    def __private_method(self):\n",
    "        print(\"This is a private method\")\n",
    "\n",
    "# Creating an instance of MyClass\n",
    "obj = MyClass()\n",
    "\n",
    "# Accessing private members directly will raise an AttributeError\n",
    "try:\n",
    "    print(obj.__private_var)  # Raises AttributeError\n",
    "except AttributeError as e:\n",
    "    print(e)\n",
    "\n",
    "# Accessing the mangled name\n",
    "print(obj._MyClass__private_var)  # Valid access\n",
    "print(obj._MyClass__private_method())  # Valid access\n",
    "\n"
   ]
  },
  {
   "cell_type": "markdown",
   "id": "269d3cdb-a046-4d5a-9a82-2d1ba90650f6",
   "metadata": {},
   "source": [
    "#### **Diamond Problem**\n",
    "The **diamond problem** (also known as the **deadly diamond of death**) is a specific case of ambiguity that arises in multiple inheritance in object-oriented programming languages. It occurs when a class inherits from two classes that both inherit from a common base class. This can lead to confusion about which path to follow when accessing a method or attribute from the base class.\n",
    "\n",
    "**Illustration of the Diamond Problem**\n",
    "Here's a simple example to illustrate the diamond problem in Python:\n",
    "\n"
   ]
  },
  {
   "cell_type": "code",
   "execution_count": 53,
   "id": "ec750e59-bb2c-404f-ac40-eef55e219851",
   "metadata": {},
   "outputs": [
    {
     "name": "stdout",
     "output_type": "stream",
     "text": [
      "Method from class B\n"
     ]
    }
   ],
   "source": [
    "class A:\n",
    "    def show(self):\n",
    "        print(\"Method from class A\")\n",
    "\n",
    "class B(A):\n",
    "    def show(self):\n",
    "        print(\"Method from class B\")\n",
    "\n",
    "class C(A):\n",
    "    def show(self):\n",
    "        print(\"Method from class C\")\n",
    "\n",
    "class D(B, C):\n",
    "    pass\n",
    "\n",
    "# Example usage\n",
    "d = D()\n",
    "d.show()  # Which method will be called?\n"
   ]
  },
  {
   "cell_type": "markdown",
   "id": "bf7198fa-83a1-412d-bda6-5bc4867096fa",
   "metadata": {},
   "source": [
    "**Explanation**\n",
    "In this example:\n",
    "\n",
    "- Class `A` is the base class with a method `show()`.\n",
    "- Classes `B` and `C` both inherit from class `A`, and they each override the `show()` method.\n",
    "- Class `D` inherits from both `B` and `C`.\n",
    "  \n",
    "When you create an instance of class `D` and call the `show()` method, Python uses the **Method Resolution Order (MRO)** to determine which method to execute."
   ]
  },
  {
   "cell_type": "markdown",
   "id": "06d2f5b7-7e47-4b1d-917c-90bda12bfffa",
   "metadata": {},
   "source": [
    "#### **Method Resolution Order (MRO)**\n",
    "Python resolves the diamond problem using a specific algorithm for MRO, which is defined by the **C3 linearization algorithm**. The MRO can be viewed using the `__mro__` attribute or the `mro()` method."
   ]
  },
  {
   "cell_type": "code",
   "execution_count": 56,
   "id": "f6a30091-8f8e-418e-9424-0fc26f1154aa",
   "metadata": {},
   "outputs": [
    {
     "name": "stdout",
     "output_type": "stream",
     "text": [
      "(<class '__main__.D'>, <class '__main__.B'>, <class '__main__.C'>, <class '__main__.A'>, <class 'object'>)\n"
     ]
    }
   ],
   "source": [
    "print(D.__mro__)  # Output: (<class '__main__.D'>, <class '__main__.B'>, <class '__main__.C'>, <class '__main__.A'>, <class 'object'>)\n"
   ]
  },
  {
   "cell_type": "markdown",
   "id": "edba1187-72ee-484f-8fae-f3bddefc1117",
   "metadata": {},
   "source": [
    "**The MRO for class `D` is:**\n",
    "\n",
    "1. D\n",
    "2. B\n",
    "3. C\n",
    "4. A\n",
    "5. object\n",
    " \n",
    "This means that when `d.show()` is called, Python first looks for the method in `D`, then in `B`, and finds `show()` in `B`, so it executes that method."
   ]
  },
  {
   "cell_type": "markdown",
   "id": "b9797a4f-ac4a-48a6-a483-b9d7983c5306",
   "metadata": {},
   "source": [
    "#### **Key Points**\n",
    "1. **Ambiguity**: The diamond problem can cause ambiguity when multiple paths exist to reach a method or attribute in a base class. This ambiguity can lead to unexpected behavior if not handled properly.\n",
    "\n",
    "2. **MRO**: Python uses the C3 linearization algorithm to define a consistent MRO, ensuring that the method resolution is predictable and avoids ambiguity.\n",
    "\n",
    "3. **Avoiding Diamond Problem**: To minimize complications arising from the diamond problem, it's recommended to design class hierarchies carefully. Using composition instead of inheritance is another approach to avoid these kinds of issues."
   ]
  },
  {
   "cell_type": "markdown",
   "id": "338c0003-6d56-414b-b32a-c0d9baaf1103",
   "metadata": {},
   "source": [
    "### Polymorphism\n",
    "\n",
    "The word **Polymorphism** means \"many forms\", and in programming it refers to methods/functions/operators with the same name that can be executed on many objects or classes.\n",
    "\n",
    "There are two main types of polymorphism in Python:\n",
    "\n",
    "1. #### **Compile-time Polymorphism (Method Overloading)**:\n",
    "    Achieved by defining methods with the same name but different signatures (in terms of argument types or counts). **Python doesn't support method overloading in the traditional sense**, but similar functionality can be achieved using default or variable-length arguments.\n",
    "\n",
    "3. #### **Runtime Polymorphism (Method Overriding)**:\n",
    "   Achieved when a method defined in a subclass has the same name and signature as a method in the parent class, but its behavior differs."
   ]
  },
  {
   "cell_type": "code",
   "execution_count": 60,
   "id": "ef88143d-6873-4169-92fc-df6d7e94dae9",
   "metadata": {},
   "outputs": [],
   "source": [
    "#### Function Polymorphism"
   ]
  },
  {
   "cell_type": "code",
   "execution_count": 61,
   "id": "7a2b4a41-6d94-40ab-b05b-85d5f3b189bd",
   "metadata": {},
   "outputs": [
    {
     "name": "stdout",
     "output_type": "stream",
     "text": [
      "12\n"
     ]
    }
   ],
   "source": [
    "# strings len() returns the number of characters:)\n",
    "\n",
    "x = \"Hello World!\"\n",
    "\n",
    "print(len(x))"
   ]
  },
  {
   "cell_type": "code",
   "execution_count": 62,
   "id": "cd57e16c-c549-4747-8365-9708041175f8",
   "metadata": {},
   "outputs": [
    {
     "name": "stdout",
     "output_type": "stream",
     "text": [
      "4\n"
     ]
    }
   ],
   "source": [
    "# For tuples len() returns the number of items in the tuple:)\n",
    "\n",
    "t = (10, 30, 40, 50)\n",
    "\n",
    "print(len(t))"
   ]
  },
  {
   "cell_type": "code",
   "execution_count": 63,
   "id": "951c0a8b-b41a-4eae-bb35-478aee923eb9",
   "metadata": {},
   "outputs": [
    {
     "name": "stdout",
     "output_type": "stream",
     "text": [
      "3\n"
     ]
    }
   ],
   "source": [
    "# For dictionaries len() returns the number of key/value pairs in the dictionary:)\n",
    "\n",
    "thisdict = {\n",
    "  \"brand\": \"Ford\",\n",
    "  \"model\": \"Mustang\",\n",
    "  \"year\": 1964\n",
    "}\n",
    "\n",
    "print(len(thisdict))"
   ]
  },
  {
   "cell_type": "code",
   "execution_count": null,
   "id": "4004dc47-d518-412d-ab61-94ca623f65ce",
   "metadata": {},
   "outputs": [],
   "source": []
  },
  {
   "cell_type": "markdown",
   "id": "cd4a2db0-0463-4d84-a1ea-8e35209e71ab",
   "metadata": {},
   "source": [
    "#### **Method Overriding**\n",
    "Derived classes can override methods from their base classes to provide specific implementations."
   ]
  },
  {
   "cell_type": "code",
   "execution_count": 65,
   "id": "72f056cd-7517-4a6e-8be8-34e7dffa2dc2",
   "metadata": {},
   "outputs": [
    {
     "name": "stdout",
     "output_type": "stream",
     "text": [
      "Child class method\n"
     ]
    }
   ],
   "source": [
    "class Parent:\n",
    "    def show(self):\n",
    "        print(\"Parent class method\")\n",
    "\n",
    "class Child(Parent):\n",
    "    def show(self):  # Overriding the method\n",
    "        print(\"Child class method\")\n",
    "\n",
    "# Example usage\n",
    "child = Child()\n",
    "child.show()  # Output: Child class method\n"
   ]
  },
  {
   "cell_type": "markdown",
   "id": "f0916350-b3ea-4440-98a3-eeb379d417de",
   "metadata": {},
   "source": [
    "#### **Using super()**\n",
    "The super() function is used to call methods from a parent class. This is especially useful in constructors to initialize base class attributes."
   ]
  },
  {
   "cell_type": "code",
   "execution_count": 67,
   "id": "419c820b-d515-4470-9faa-df16df05c5d0",
   "metadata": {},
   "outputs": [
    {
     "name": "stdout",
     "output_type": "stream",
     "text": [
      "Parent constructor\n",
      "Child constructor\n"
     ]
    }
   ],
   "source": [
    "class Parent:\n",
    "    def __init__(self):\n",
    "        print(\"Parent constructor\")\n",
    "\n",
    "class Child(Parent):\n",
    "    def __init__(self):\n",
    "        super().__init__()  # Call the Parent constructor\n",
    "        print(\"Child constructor\")\n",
    "\n",
    "# Example usage\n",
    "child = Child()\n"
   ]
  },
  {
   "cell_type": "markdown",
   "id": "7b62e638-c8b0-4f26-aac0-2bb93a0bd4d5",
   "metadata": {},
   "source": [
    "**Method overloading** is a feature in object-oriented programming that allows a class to have more than one method with the same name but different parameters (type, number, or both). This can make it easier to use a class's methods in a flexible way, as the same method name can be used to perform different tasks based on the input parameters.\n",
    "\n",
    "**Method Overloading in Python**\n",
    "\n",
    "    While Python does not support method overloading in the same way as some other languages (like Java or C++), it can achieve similar behavior using default arguments or variable-length arguments.\n",
    "\n",
    "**Using Default Arguments**\n",
    "\n",
    "    You can define a method with default parameter values, which allows it to be called with different numbers of arguments."
   ]
  },
  {
   "cell_type": "code",
   "execution_count": 69,
   "id": "69f347b1-68e6-4de0-8d99-de35f23814cd",
   "metadata": {},
   "outputs": [
    {
     "name": "stdout",
     "output_type": "stream",
     "text": [
      "5\n",
      "15\n"
     ]
    }
   ],
   "source": [
    "class MathOperations:\n",
    "    def add(self, a, b=0):\n",
    "        return a + b\n",
    "\n",
    "math = MathOperations()\n",
    "print(math.add(5))        # Output: 5 (5 + 0)\n",
    "print(math.add(5, 10))    # Output: 15 (5 + 10)\n"
   ]
  },
  {
   "cell_type": "markdown",
   "id": "4180a42f-dcb1-44af-a8b3-f32aadb13bbf",
   "metadata": {},
   "source": [
    "**Using Variable-Length Arguments**\n",
    "\n",
    "You can use `*args` and `**kwargs` to define methods that can accept any number of positional or keyword arguments."
   ]
  },
  {
   "cell_type": "code",
   "execution_count": 71,
   "id": "a6d40916-1530-43fa-b50b-8c064acbfa32",
   "metadata": {},
   "outputs": [
    {
     "name": "stdout",
     "output_type": "stream",
     "text": [
      "5\n",
      "15\n",
      "15\n"
     ]
    }
   ],
   "source": [
    "class MathOperations:\n",
    "    def add(self, *args):\n",
    "        return sum(args)\n",
    "\n",
    "math = MathOperations()\n",
    "print(math.add(5))                   # Output: 5\n",
    "print(math.add(5, 10))               # Output: 15\n",
    "print(math.add(1, 2, 3, 4, 5))       # Output: 15\n"
   ]
  },
  {
   "cell_type": "markdown",
   "id": "093bc682-5b5f-4752-bb01-3b63205bb3a7",
   "metadata": {},
   "source": [
    "**Custom Logic for Overloading**\n",
    "\n",
    "You can also implement custom logic within a single method to handle different types or numbers of parameters."
   ]
  },
  {
   "cell_type": "code",
   "execution_count": 73,
   "id": "cd26dbaa-f205-43a2-a71f-7896c3d55ab7",
   "metadata": {},
   "outputs": [
    {
     "name": "stdout",
     "output_type": "stream",
     "text": [
      "25\n",
      "50\n",
      "24\n"
     ]
    }
   ],
   "source": [
    "class MathOperations:\n",
    "    def multiply(self, a, b=None):\n",
    "        if b is not None:\n",
    "            return a * b\n",
    "        elif isinstance(a, (list, tuple)):\n",
    "            result = 1\n",
    "            for num in a:\n",
    "                result *= num\n",
    "            return result\n",
    "        else:\n",
    "            return a * a  # Square the number if only one argument is provided\n",
    "\n",
    "math = MathOperations()\n",
    "print(math.multiply(5))               # Output: 25 (5 * 5)\n",
    "print(math.multiply(5, 10))           # Output: 50 (5 * 10)\n",
    "print(math.multiply([1, 2, 3, 4]))    # Output: 24 (1 * 2 * 3 * 4)\n"
   ]
  },
  {
   "cell_type": "markdown",
   "id": "53d0b722-3239-4e13-9e84-b4f02e16e132",
   "metadata": {},
   "source": [
    "Although Python does not have built-in support for method overloading like some other programming languages, it provides flexibility through default arguments, variable-length arguments, and custom logic to achieve similar functionality. Understanding how to implement and utilize these techniques can enhance your ability to write flexible and maintainable code."
   ]
  },
  {
   "cell_type": "code",
   "execution_count": null,
   "id": "b3ad9cfd-e9e5-4719-b4c2-2c69d2586dc6",
   "metadata": {},
   "outputs": [],
   "source": []
  },
  {
   "cell_type": "markdown",
   "id": "8cfb559e-82d2-4915-9890-f3e2acba008d",
   "metadata": {},
   "source": [
    "### Iterators\n",
    "\n",
    "In Python, an iterator is an object that allows you to traverse (or iterate over) a sequence, such as lists, tuples, strings, or any other iterable objects. It provides a way to access the elements of a collection one by one without needing to expose the underlying structure of the sequence.\n",
    "\n",
    "**Key Concepts of Iterators**\n",
    "1. **Iterable**: An object that can return an iterator (e.g., lists, strings, tuples, dictionaries). Any object with an `__iter__()` method is iterable.\n",
    "\n",
    "2. **Iterator**: An object that keeps state and produces the next value when you call the`__next__()` method. An iterator must implement two methods:\n",
    "\n",
    "    - `__iter__()`: Returns the iterator object itself.\n",
    "    - `__next__()`: Returns the next value in the sequence. When no more data is available, it raises the `StopIteration` exception."
   ]
  },
  {
   "cell_type": "code",
   "execution_count": null,
   "id": "0e5604cc-0125-4aa4-8627-fae3095844af",
   "metadata": {},
   "outputs": [],
   "source": []
  },
  {
   "cell_type": "code",
   "execution_count": 76,
   "id": "ed65bcb2-842a-4d5c-91ae-01fcb4f19022",
   "metadata": {},
   "outputs": [
    {
     "name": "stdout",
     "output_type": "stream",
     "text": [
      "1\n",
      "2\n",
      "3\n"
     ]
    }
   ],
   "source": [
    "# Example of an iterable (list)\n",
    "numbers = [1, 2, 3, 4, 5]\n",
    "\n",
    "# Getting an iterator from the list\n",
    "iterator = iter(numbers)\n",
    "\n",
    "# Accessing elements using the iterator\n",
    "print(next(iterator))  # Output: 1\n",
    "print(next(iterator))  # Output: 2\n",
    "print(next(iterator))  # Output: 3\n",
    "\n",
    "# And so on until it raises StopIteration\n"
   ]
  },
  {
   "cell_type": "markdown",
   "id": "a9dbcf09-d961-432b-803b-29114b53384b",
   "metadata": {},
   "source": [
    "**Creating Your Own Iterator**\n",
    "\n",
    "You can create a custom iterator by defining a class that implements the `__iter__()` and `__next__()` methods."
   ]
  },
  {
   "cell_type": "code",
   "execution_count": 78,
   "id": "02657573-4a62-4098-91bb-b3a5d6f443d2",
   "metadata": {},
   "outputs": [
    {
     "name": "stdout",
     "output_type": "stream",
     "text": [
      "1\n",
      "2\n",
      "3\n",
      "4\n"
     ]
    }
   ],
   "source": [
    "class MyRange:\n",
    "    def __init__(self, start, end):\n",
    "        self.current = start\n",
    "        self.end = end\n",
    "\n",
    "    def __iter__(self):\n",
    "        return self\n",
    "\n",
    "    def __next__(self):\n",
    "        if self.current < self.end:\n",
    "            current = self.current\n",
    "            self.current += 1\n",
    "            return current\n",
    "        else:\n",
    "            raise StopIteration\n",
    "\n",
    "# Using the custom iterator\n",
    "my_range = MyRange(1, 5)\n",
    "for num in my_range:\n",
    "    print(num)\n",
    "\n",
    "# Output:\n",
    "# 1\n",
    "# 2\n",
    "# 3\n",
    "# 4\n"
   ]
  },
  {
   "cell_type": "markdown",
   "id": "adf19b21-d842-4401-88be-3f8e3dd15ced",
   "metadata": {},
   "source": [
    "#### Python Scope:)\n",
    "\n",
    "In Python, **scope** refers to the region of a program where a particular variable or object is accessible. It determines where you can access or modify a variable and prevents accidental overwriting. Python follows the **LEGB** rule to resolve variable names, where scope is classified into four types:\n",
    "\n",
    "**LEGB Rule**:\n",
    "1. **Local (L)**: Variables defined inside a function. These variables are only accessible within that function.\n",
    "2. **Enclosing (E)**: Variables in the local scope of enclosing functions (in nested functions). These variables are accessible to inner functions.\n",
    "3. **Global (G)**: Variables defined at the top level of the module or script, outside any function or class. Accessible anywhere in the module.\n",
    "4. **Built-in (B)**: Names that are part of Python’s built-in namespaces, like `len()`, `print()`, etc."
   ]
  },
  {
   "cell_type": "code",
   "execution_count": 80,
   "id": "cff57d34-386e-4ed2-8e5b-7ec4c05916bb",
   "metadata": {},
   "outputs": [
    {
     "name": "stdout",
     "output_type": "stream",
     "text": [
      "10 20 30\n"
     ]
    }
   ],
   "source": [
    "x = 10  # Global scope\n",
    "\n",
    "def outer_function():\n",
    "    y = 20  # Enclosing scope\n",
    "    def inner_function():\n",
    "        z = 30  # Local scope\n",
    "        print(x, y, z)  # Accessing all scope\n",
    "    inner_function()\n",
    "\n",
    "outer_function()  # Output: 10 20 30\n"
   ]
  },
  {
   "cell_type": "markdown",
   "id": "6abb9442-7e8d-4dbb-acfc-18a15c418393",
   "metadata": {},
   "source": [
    "#### Global and Nonlocal Keywords:\n",
    "- **global**: Used to modify a global variable inside a function.\n",
    "- **nonlocal**: Used in nested functions to modify a variable in the enclosing scope."
   ]
  },
  {
   "cell_type": "code",
   "execution_count": 82,
   "id": "f7c1babe-8a26-4dd5-bb61-4cd51aae3f44",
   "metadata": {},
   "outputs": [
    {
     "name": "stdout",
     "output_type": "stream",
     "text": [
      "20\n"
     ]
    }
   ],
   "source": [
    "x = 10\n",
    "\n",
    "def modify_global():\n",
    "    global x\n",
    "    x = 20\n",
    "\n",
    "modify_global()\n",
    "print(x)  # Output: 20\n"
   ]
  },
  {
   "cell_type": "code",
   "execution_count": 83,
   "id": "aa5a078f-7340-4e1d-a298-4ba72ca13a47",
   "metadata": {},
   "outputs": [
    {
     "name": "stdout",
     "output_type": "stream",
     "text": [
      "Inner: 20\n",
      "Outer: 20\n"
     ]
    }
   ],
   "source": [
    "def outer_function():\n",
    "    x = 10  # Enclosing scope\n",
    "    \n",
    "    def inner_function():\n",
    "        nonlocal x  # Refers to x in the outer function's scope\n",
    "        x = 20  # Modifies the enclosing variable x\n",
    "        print(\"Inner:\", x)\n",
    "    \n",
    "    inner_function()\n",
    "    print(\"Outer:\", x)\n",
    "\n",
    "outer_function()\n"
   ]
  },
  {
   "cell_type": "code",
   "execution_count": 84,
   "id": "f4055fce-4d09-4b31-bf7c-bee79ea1d3f6",
   "metadata": {},
   "outputs": [],
   "source": [
    "import platform\n",
    "\n",
    "# List all the defined names belonging to the platform module:)\n",
    "\n",
    "# x = dir(platform)\n",
    "# print(x)"
   ]
  },
  {
   "cell_type": "code",
   "execution_count": 85,
   "id": "ad3f0359-2141-43f1-8045-577c7afc004e",
   "metadata": {},
   "outputs": [
    {
     "name": "stdout",
     "output_type": "stream",
     "text": [
      "Windows\n"
     ]
    }
   ],
   "source": [
    "x = platform.system()\n",
    "print(x)"
   ]
  },
  {
   "cell_type": "code",
   "execution_count": 86,
   "id": "a0263855-3dc2-4864-bc9f-6d951c8f2e7d",
   "metadata": {},
   "outputs": [
    {
     "name": "stdout",
     "output_type": "stream",
     "text": [
      "2024-10-07 20:39:10.618836\n"
     ]
    }
   ],
   "source": [
    "# mport the datetime module and display the current date:\n",
    "import datetime\n",
    "\n",
    "x = datetime.datetime.now()\n",
    "print(x)"
   ]
  },
  {
   "cell_type": "code",
   "execution_count": 87,
   "id": "2851ac9f-45b6-4000-b1ca-856a5efd0da7",
   "metadata": {},
   "outputs": [
    {
     "name": "stdout",
     "output_type": "stream",
     "text": [
      "2024\n",
      "Monday\n"
     ]
    }
   ],
   "source": [
    "# Return the year and name of weekday:\n",
    "\n",
    "\n",
    "print(x.year)\n",
    "print(x.strftime(\"%A\"))\n"
   ]
  },
  {
   "cell_type": "code",
   "execution_count": 88,
   "id": "d264f965-aa61-4346-bc10-6e0780870c43",
   "metadata": {},
   "outputs": [
    {
     "name": "stdout",
     "output_type": "stream",
     "text": [
      "2020-05-17 00:00:00\n"
     ]
    }
   ],
   "source": [
    "# Create a date object:\n",
    "\n",
    "x = datetime.datetime(2020, 5, 17)\n",
    "\n",
    "print(x)"
   ]
  },
  {
   "cell_type": "markdown",
   "id": "019bfaed-37b4-4a83-b9f0-80fced51497a",
   "metadata": {},
   "source": [
    "### JSON\n",
    "\n",
    "JSON is a syntax for storing and exchanging data.\r\n",
    "\r\n",
    "JSON is text, written with JavaScript object notatio\n",
    "\n",
    "**JSON in Python**\n",
    "\r\n",
    "Python has a built-in package called json, which can be used to work with JSON data.n."
   ]
  },
  {
   "cell_type": "code",
   "execution_count": 152,
   "id": "a8d8a09b-8c7b-4113-ac51-3569b047adb8",
   "metadata": {},
   "outputs": [
    {
     "name": "stdout",
     "output_type": "stream",
     "text": [
      "30\n"
     ]
    },
    {
     "data": {
      "text/plain": [
       "str"
      ]
     },
     "execution_count": 152,
     "metadata": {},
     "output_type": "execute_result"
    }
   ],
   "source": [
    "# Convert from JSON to Python:)\n",
    "\n",
    "import json\n",
    "\n",
    "# some JSON:\n",
    "x =  '{ \"name\":\"John\", \"age\":30, \"city\":\"New York\"}'\n",
    "\n",
    "# parse x:\n",
    "y = json.loads(x)\n",
    "\n",
    "# the result is a Python dictionary:\n",
    "print(y[\"age\"])"
   ]
  },
  {
   "cell_type": "code",
   "execution_count": 156,
   "id": "fbc63d37-6a09-4e0f-a908-d6b80e9fff13",
   "metadata": {},
   "outputs": [
    {
     "name": "stdout",
     "output_type": "stream",
     "text": [
      "{\"name\": \"John\", \"age\": 30, \"city\": \"New York\"}\n"
     ]
    },
    {
     "data": {
      "text/plain": [
       "str"
      ]
     },
     "execution_count": 156,
     "metadata": {},
     "output_type": "execute_result"
    }
   ],
   "source": [
    "# Convert from Python to JSON:)\n",
    "\n",
    "# a Python object (dict):\n",
    "x = {\n",
    "  \"name\": \"John\",\n",
    "  \"age\": 30,\n",
    "  \"city\": \"New York\"\n",
    "}\n",
    "\n",
    "# convert into JSON:\n",
    "y = json.dumps(x)\n",
    "\n",
    "# the result is a JSON string:\n",
    "print(y)"
   ]
  },
  {
   "cell_type": "code",
   "execution_count": 158,
   "id": "24a3a3af-0a66-4165-9d69-6e10db9c6c9a",
   "metadata": {},
   "outputs": [
    {
     "name": "stdout",
     "output_type": "stream",
     "text": [
      "{\"name\": \"John\", \"age\": 30}\n",
      "[\"apple\", \"bananas\"]\n",
      "[\"apple\", \"bananas\"]\n",
      "\"hello\"\n",
      "42\n",
      "31.76\n",
      "true\n",
      "false\n",
      "null\n"
     ]
    }
   ],
   "source": [
    "# Convert Python objects into JSON strings, and print the values:)\n",
    "\n",
    "print(json.dumps({\"name\": \"John\", \"age\": 30}))\n",
    "print(json.dumps([\"apple\", \"bananas\"]))\n",
    "print(json.dumps((\"apple\", \"bananas\")))\n",
    "print(json.dumps(\"hello\"))\n",
    "print(json.dumps(42))\n",
    "print(json.dumps(31.76))\n",
    "print(json.dumps(True))\n",
    "print(json.dumps(False))\n",
    "print(json.dumps(None))"
   ]
  },
  {
   "cell_type": "code",
   "execution_count": 165,
   "id": "9f11509a-46e4-49e2-8706-60113fa2eac8",
   "metadata": {},
   "outputs": [],
   "source": [
    "# !pip list"
   ]
  },
  {
   "cell_type": "markdown",
   "id": "db299db2-98a2-4690-9d2e-8ba26561eed2",
   "metadata": {},
   "source": [
    "### Python Try Except\n",
    "\n",
    "In Python, `try-except` blocks are used for handling exceptions (errors) in the code. This allows the program to continue running even if an error occurs.\n",
    "\n",
    "## Structure of `try-except` Block\n",
    "\n",
    "- **`try` Block**: Used to test a block of code for errors.\n",
    "- **`except` Block**: Used to handle the error if it occurs.\n",
    "- **`else` Block**: Used to execute code if no errors were raised.\n",
    "- **`finally` Block**: Always executes, regardless of whether an exception occurred or not.\n",
    "\n",
    "### Syntax:\n",
    "```python\n",
    "try:\n",
    "    # Code that might raise an exception\n",
    "except ExceptionType:\n",
    "    # Code that runs if an exception occurs\n",
    "else:\n",
    "    # Code that runs if no exception occurs\n",
    "finally:\n",
    "    # Code that always runs (cleanup code)\n"
   ]
  },
  {
   "cell_type": "code",
   "execution_count": 170,
   "id": "460c636b-099d-4a3c-9bde-193f86444205",
   "metadata": {},
   "outputs": [
    {
     "name": "stdout",
     "output_type": "stream",
     "text": [
      "kaha pda tune ye sbb hha!\n",
      "This will always run!\n"
     ]
    }
   ],
   "source": [
    "# Example of Exception Handling:)\n",
    "\n",
    "try:\n",
    "    x = 10 / 0  # This will raise a ZeroDivisionError\n",
    "except ZeroDivisionError:\n",
    "    print(\"kaha pda tune ye sbb hha!\")\n",
    "else:\n",
    "    print(\"No errors occurred!\")\n",
    "finally:\n",
    "    print(\"This will always run!\")\n"
   ]
  },
  {
   "cell_type": "markdown",
   "id": "4ad5d867-3cf6-4a75-ba9d-6ee1f8077b2e",
   "metadata": {},
   "source": [
    "# Exception Handling\n",
    "\n",
    "When an exception occurs, Python usually stops executing the program and displays an error message. However, using the `try-except` block, these exceptions can be caught and handled to prevent the program from crashing.\n",
    "\n",
    "## Common Exception Types:\n",
    "\n",
    "- **`ZeroDivisionError`**: Raised when dividing by zero.\n",
    "- **`ValueError`**: Raised when a function receives an argument of the correct type but an inappropriate value.\n",
    "- **`TypeError`**: Raised when an operation or function is applied to an object of inappropriate type.\n",
    "- **`IndexError`**: Raised when a sequence subscript is out of range.\n"
   ]
  },
  {
   "cell_type": "code",
   "execution_count": 173,
   "id": "f0dd601f-31cb-42bc-a319-1d8e884a70de",
   "metadata": {},
   "outputs": [
    {
     "name": "stdout",
     "output_type": "stream",
     "text": [
      "Index out of range!\n"
     ]
    }
   ],
   "source": [
    "try:\n",
    "    lst = [1, 2, 3]\n",
    "    print(lst[10])  # This will raise an IndexError\n",
    "except IndexError:\n",
    "    print(\"Index out of range!\")\n",
    "except ZeroDivisionError:\n",
    "    print(\"Cannot divide by zero!\")"
   ]
  },
  {
   "cell_type": "code",
   "execution_count": 179,
   "id": "94131aed-03c1-49e5-832d-9b472cebcf15",
   "metadata": {},
   "outputs": [
    {
     "name": "stdout",
     "output_type": "stream",
     "text": [
      "Variable l is not defined\n"
     ]
    }
   ],
   "source": [
    "try:\n",
    "  print(l)\n",
    "except NameError:\n",
    "  print(\"Variable l is not defined\")\n",
    "except:\n",
    "  print(\"Something else went wrong\")"
   ]
  },
  {
   "cell_type": "code",
   "execution_count": 181,
   "id": "66998349-4d0a-4969-a764-6edae9618635",
   "metadata": {},
   "outputs": [
    {
     "name": "stdout",
     "output_type": "stream",
     "text": [
      "Something went wrong when opening the file\n"
     ]
    }
   ],
   "source": [
    "try:\n",
    "  f = open(\"demofile.txt\")\n",
    "  try:\n",
    "    f.write(\"Lorum Ipsum\")\n",
    "  except:\n",
    "    print(\"Something went wrong when writing to the file\")\n",
    "  finally:\n",
    "    f.close()\n",
    "except:\n",
    "  print(\"Something went wrong when opening the file\")"
   ]
  },
  {
   "cell_type": "code",
   "execution_count": 183,
   "id": "858bf3b7-583f-4a47-8e28-1d2610c1500e",
   "metadata": {},
   "outputs": [
    {
     "ename": "Exception",
     "evalue": "Sorry, no numbers below zero",
     "output_type": "error",
     "traceback": [
      "\u001b[1;31m--------------------------------------------------------------------\u001b[0m",
      "\u001b[1;31mException\u001b[0m                          Traceback (most recent call last)",
      "Cell \u001b[1;32mIn[183], line 4\u001b[0m\n\u001b[0;32m      1\u001b[0m x \u001b[38;5;241m=\u001b[39m \u001b[38;5;241m-\u001b[39m\u001b[38;5;241m1\u001b[39m\n\u001b[0;32m      3\u001b[0m \u001b[38;5;28;01mif\u001b[39;00m x \u001b[38;5;241m<\u001b[39m \u001b[38;5;241m0\u001b[39m:\n\u001b[1;32m----> 4\u001b[0m   \u001b[38;5;28;01mraise\u001b[39;00m \u001b[38;5;167;01mException\u001b[39;00m(\u001b[38;5;124m\"\u001b[39m\u001b[38;5;124mSorry, no numbers below zero\u001b[39m\u001b[38;5;124m\"\u001b[39m)\n",
      "\u001b[1;31mException\u001b[0m: Sorry, no numbers below zero"
     ]
    }
   ],
   "source": [
    "# Raise an error and stop the program if x is lower than 0:\n",
    "# The raise keyword is used to raise an exception.\n",
    "\n",
    "x = -1\n",
    "\n",
    "if x < 0:\n",
    "  raise Exception(\"Sorry, no numbers below zero\")"
   ]
  },
  {
   "cell_type": "code",
   "execution_count": 185,
   "id": "c6d0d9df-7fa3-4cd8-aebb-d69d74264257",
   "metadata": {},
   "outputs": [
    {
     "ename": "TypeError",
     "evalue": "Only integers are allowed",
     "output_type": "error",
     "traceback": [
      "\u001b[1;31m--------------------------------------------------------------------\u001b[0m",
      "\u001b[1;31mTypeError\u001b[0m                          Traceback (most recent call last)",
      "Cell \u001b[1;32mIn[185], line 6\u001b[0m\n\u001b[0;32m      3\u001b[0m x \u001b[38;5;241m=\u001b[39m \u001b[38;5;124m\"\u001b[39m\u001b[38;5;124mhello\u001b[39m\u001b[38;5;124m\"\u001b[39m\n\u001b[0;32m      5\u001b[0m \u001b[38;5;28;01mif\u001b[39;00m \u001b[38;5;129;01mnot\u001b[39;00m \u001b[38;5;28mtype\u001b[39m(x) \u001b[38;5;129;01mis\u001b[39;00m \u001b[38;5;28mint\u001b[39m:\n\u001b[1;32m----> 6\u001b[0m   \u001b[38;5;28;01mraise\u001b[39;00m \u001b[38;5;167;01mTypeError\u001b[39;00m(\u001b[38;5;124m\"\u001b[39m\u001b[38;5;124mOnly integers are allowed\u001b[39m\u001b[38;5;124m\"\u001b[39m)\n",
      "\u001b[1;31mTypeError\u001b[0m: Only integers are allowed"
     ]
    }
   ],
   "source": [
    "# Raise a TypeError if x is not an integer:\n",
    "\n",
    "x = \"hello\"\n",
    "\n",
    "if not type(x) is int:\n",
    "  raise TypeError(\"Only integers are allowed\")"
   ]
  },
  {
   "cell_type": "code",
   "execution_count": null,
   "id": "49d9ad20-5b60-494f-84ed-312bd13427b0",
   "metadata": {},
   "outputs": [],
   "source": []
  }
 ],
 "metadata": {
  "kernelspec": {
   "display_name": "Python 3 (ipykernel)",
   "language": "python",
   "name": "python3"
  },
  "language_info": {
   "codemirror_mode": {
    "name": "ipython",
    "version": 3
   },
   "file_extension": ".py",
   "mimetype": "text/x-python",
   "name": "python",
   "nbconvert_exporter": "python",
   "pygments_lexer": "ipython3",
   "version": "3.12.4"
  }
 },
 "nbformat": 4,
 "nbformat_minor": 5
}
